{
 "cells": [
  {
   "cell_type": "code",
   "execution_count": 1,
   "metadata": {},
   "outputs": [],
   "source": [
    "import pandas as pd\n",
    "import numpy as np\n",
    "import matplotlib.pyplot as plt"
   ]
  },
  {
   "cell_type": "code",
   "execution_count": 3,
   "metadata": {},
   "outputs": [],
   "source": [
    "df=pd.read_csv(\"emlak.csv\",index_col=0)"
   ]
  },
  {
   "cell_type": "code",
   "execution_count": 4,
   "metadata": {},
   "outputs": [
    {
     "data": {
      "text/html": [
       "<div>\n",
       "<style scoped>\n",
       "    .dataframe tbody tr th:only-of-type {\n",
       "        vertical-align: middle;\n",
       "    }\n",
       "\n",
       "    .dataframe tbody tr th {\n",
       "        vertical-align: top;\n",
       "    }\n",
       "\n",
       "    .dataframe thead th {\n",
       "        text-align: right;\n",
       "    }\n",
       "</style>\n",
       "<table border=\"1\" class=\"dataframe\">\n",
       "  <thead>\n",
       "    <tr style=\"text-align: right;\">\n",
       "      <th></th>\n",
       "      <th>m2</th>\n",
       "      <th>celly_houseRoomCount</th>\n",
       "      <th>description</th>\n",
       "      <th>isitma</th>\n",
       "      <th>celly_buildingAge</th>\n",
       "      <th>celly_floortype</th>\n",
       "      <th>location</th>\n",
       "      <th>days</th>\n",
       "      <th>price</th>\n",
       "    </tr>\n",
       "  </thead>\n",
       "  <tbody>\n",
       "    <tr>\n",
       "      <th>0</th>\n",
       "      <td>95.0</td>\n",
       "      <td>2 + 1</td>\n",
       "      <td>baltalimanında 2+1 eşyalı daire</td>\n",
       "      <td>Kat Kaloriferi</td>\n",
       "      <td>25 Yaşında</td>\n",
       "      <td>1. Kat</td>\n",
       "      <td>Sarıyer,Baltalimanı Mahallesi</td>\n",
       "      <td>5 Temmuz 2020</td>\n",
       "      <td>4,250 TL</td>\n",
       "    </tr>\n",
       "    <tr>\n",
       "      <th>1</th>\n",
       "      <td>110.0</td>\n",
       "      <td>2 + 1</td>\n",
       "      <td>sahibinden full eşyalı daire</td>\n",
       "      <td>Kat Kaloriferi</td>\n",
       "      <td>20 Yaşında</td>\n",
       "      <td>boş</td>\n",
       "      <td>Sarıyer,Ayazağa Mahallesi</td>\n",
       "      <td>20 Haziran 2020</td>\n",
       "      <td>2,700 TL</td>\n",
       "    </tr>\n",
       "    <tr>\n",
       "      <th>2</th>\n",
       "      <td>0.0</td>\n",
       "      <td>4 + 1</td>\n",
       "      <td>tarabya sanatcılar sitesinde ferah teraslı 4+...</td>\n",
       "      <td>Kat Kaloriferi</td>\n",
       "      <td>20 Yaşında</td>\n",
       "      <td>Çatı Katı</td>\n",
       "      <td>Sarıyer,Tarabya Mahallesi</td>\n",
       "      <td>13 Temmuz 2020</td>\n",
       "      <td>5,500 TL</td>\n",
       "    </tr>\n",
       "    <tr>\n",
       "      <th>3</th>\n",
       "      <td>80.0</td>\n",
       "      <td>1 + 1</td>\n",
       "      <td>sariyer merkezde caddede ofise kuaföre vs.uyg...</td>\n",
       "      <td>Klima</td>\n",
       "      <td>20 Yaşında</td>\n",
       "      <td>2. Kat</td>\n",
       "      <td>Sarıyer,Merkez Mahallesi</td>\n",
       "      <td>7 Temmuz 2020</td>\n",
       "      <td>2,250 TL</td>\n",
       "    </tr>\n",
       "    <tr>\n",
       "      <th>4</th>\n",
       "      <td>80.0</td>\n",
       "      <td>1 + 1</td>\n",
       "      <td>sarıyer ayazağa meydan 1+1 eşyalı kiralık dai...</td>\n",
       "      <td>Klima</td>\n",
       "      <td>14 Yaşında</td>\n",
       "      <td>6. Kat</td>\n",
       "      <td>Sarıyer,Ayazağa Mahallesi</td>\n",
       "      <td>11 Temmuz 2020</td>\n",
       "      <td>1,600 TL</td>\n",
       "    </tr>\n",
       "  </tbody>\n",
       "</table>\n",
       "</div>"
      ],
      "text/plain": [
       "      m2 celly_houseRoomCount  \\\n",
       "0   95.0                2 + 1   \n",
       "1  110.0                2 + 1   \n",
       "2    0.0                4 + 1   \n",
       "3   80.0                1 + 1   \n",
       "4   80.0                1 + 1   \n",
       "\n",
       "                                         description          isitma  \\\n",
       "0                   baltalimanında 2+1 eşyalı daire   Kat Kaloriferi   \n",
       "1                       sahibinden full eşyalı daire  Kat Kaloriferi   \n",
       "2   tarabya sanatcılar sitesinde ferah teraslı 4+...  Kat Kaloriferi   \n",
       "3   sariyer merkezde caddede ofise kuaföre vs.uyg...           Klima   \n",
       "4   sarıyer ayazağa meydan 1+1 eşyalı kiralık dai...           Klima   \n",
       "\n",
       "  celly_buildingAge celly_floortype                       location  \\\n",
       "0        25 Yaşında          1. Kat  Sarıyer,Baltalimanı Mahallesi   \n",
       "1        20 Yaşında             boş      Sarıyer,Ayazağa Mahallesi   \n",
       "2        20 Yaşında       Çatı Katı      Sarıyer,Tarabya Mahallesi   \n",
       "3        20 Yaşında          2. Kat       Sarıyer,Merkez Mahallesi   \n",
       "4        14 Yaşında          6. Kat      Sarıyer,Ayazağa Mahallesi   \n",
       "\n",
       "              days     price  \n",
       "0    5 Temmuz 2020  4,250 TL  \n",
       "1  20 Haziran 2020  2,700 TL  \n",
       "2   13 Temmuz 2020  5,500 TL  \n",
       "3    7 Temmuz 2020  2,250 TL  \n",
       "4   11 Temmuz 2020  1,600 TL  "
      ]
     },
     "execution_count": 4,
     "metadata": {},
     "output_type": "execute_result"
    }
   ],
   "source": [
    "df.head()"
   ]
  },
  {
   "cell_type": "code",
   "execution_count": 5,
   "metadata": {},
   "outputs": [
    {
     "name": "stdout",
     "output_type": "stream",
     "text": [
      "<class 'pandas.core.frame.DataFrame'>\n",
      "Int64Index: 1127 entries, 0 to 1130\n",
      "Data columns (total 9 columns):\n",
      " #   Column                Non-Null Count  Dtype  \n",
      "---  ------                --------------  -----  \n",
      " 0   m2                    1126 non-null   float64\n",
      " 1   celly_houseRoomCount  1127 non-null   object \n",
      " 2   description           1127 non-null   object \n",
      " 3   isitma                1127 non-null   object \n",
      " 4   celly_buildingAge     1127 non-null   object \n",
      " 5   celly_floortype       1127 non-null   object \n",
      " 6   location              1127 non-null   object \n",
      " 7   days                  1127 non-null   object \n",
      " 8   price                 1127 non-null   object \n",
      "dtypes: float64(1), object(8)\n",
      "memory usage: 88.0+ KB\n"
     ]
    }
   ],
   "source": [
    "df.info()"
   ]
  },
  {
   "cell_type": "code",
   "execution_count": 6,
   "metadata": {},
   "outputs": [],
   "source": [
    "df.drop_duplicates(inplace=True)"
   ]
  },
  {
   "cell_type": "code",
   "execution_count": 7,
   "metadata": {},
   "outputs": [],
   "source": [
    "df.price = df.price.replace('TL','',regex=True)"
   ]
  },
  {
   "cell_type": "code",
   "execution_count": 8,
   "metadata": {},
   "outputs": [
    {
     "data": {
      "text/plain": [
       "array(['25 Yaşında', '20 Yaşında', '14 Yaşında', '10 Yaşında',\n",
       "       '2 Yaşında', '3 Yaşında', '4 Yaşında', '5 Yaşında', '13 Yaşında',\n",
       "       '6 Yaşında', '19 Yaşında', '30 Yaşında', '16 Yaşında', '8 Yaşında',\n",
       "       '45 Yaşında', '7 Yaşında', '50 Yaşında', '15 Yaşında',\n",
       "       '11 Yaşında', '40 Yaşında', 'Sıfır Bina', '12 Yaşında',\n",
       "       '27 Yaşında', '1 Yaşında', '21 Yaşında', '23 Yaşında',\n",
       "       '24 Yaşında', '28 Yaşında', '35 Yaşında', '22 Yaşında',\n",
       "       '26 Yaşında', '18 Yaşında', '29 Yaşında', '17 Yaşında',\n",
       "       '38 Yaşında', '9 Yaşında', '42 Yaşında', '36 Yaşında',\n",
       "       '360 Yaşında', '31 Yaşında', '44 Yaşında'], dtype=object)"
      ]
     },
     "execution_count": 8,
     "metadata": {},
     "output_type": "execute_result"
    }
   ],
   "source": [
    "df.celly_buildingAge.unique()"
   ]
  },
  {
   "cell_type": "code",
   "execution_count": 9,
   "metadata": {},
   "outputs": [],
   "source": [
    "df_age=df.celly_buildingAge.to_list()"
   ]
  },
  {
   "cell_type": "code",
   "execution_count": 10,
   "metadata": {},
   "outputs": [],
   "source": [
    "blank=[]\n",
    "for age in df_age:\n",
    "    if(age==\"Sıfır Bina\"):\n",
    "        blank.append(0)\n",
    "    else:\n",
    "        blank.append(int(age[:-8]))\n",
    "df[\"celly_buildingAge\"]=blank        "
   ]
  },
  {
   "cell_type": "code",
   "execution_count": 11,
   "metadata": {},
   "outputs": [
    {
     "data": {
      "text/plain": [
       "25     156\n",
       "20     117\n",
       "3       76\n",
       "4       71\n",
       "5       71\n",
       "10      65\n",
       "8       55\n",
       "30      54\n",
       "15      50\n",
       "0       47\n",
       "1       42\n",
       "6       39\n",
       "2       38\n",
       "7       23\n",
       "26      20\n",
       "9       19\n",
       "35      18\n",
       "11      18\n",
       "12      15\n",
       "18      14\n",
       "16      13\n",
       "24      12\n",
       "21      11\n",
       "29      11\n",
       "28      11\n",
       "40      10\n",
       "23      10\n",
       "14       9\n",
       "19       6\n",
       "13       6\n",
       "22       5\n",
       "17       3\n",
       "27       3\n",
       "50       2\n",
       "45       1\n",
       "31       1\n",
       "36       1\n",
       "44       1\n",
       "42       1\n",
       "38       1\n",
       "360      1\n",
       "Name: celly_buildingAge, dtype: int64"
      ]
     },
     "execution_count": 11,
     "metadata": {},
     "output_type": "execute_result"
    }
   ],
   "source": [
    "df[\"celly_buildingAge\"].value_counts()"
   ]
  },
  {
   "cell_type": "code",
   "execution_count": 13,
   "metadata": {},
   "outputs": [],
   "source": [
    "df[\"deprem_sonrası\"]=0 # geçici\n",
    "df.loc[df[\"celly_buildingAge\"]<21,\"deprem_sonrası\"]=1"
   ]
  },
  {
   "cell_type": "code",
   "execution_count": 14,
   "metadata": {},
   "outputs": [
    {
     "data": {
      "text/plain": [
       "25     156\n",
       "20     117\n",
       "3       76\n",
       "4       71\n",
       "5       71\n",
       "10      65\n",
       "8       55\n",
       "30      54\n",
       "15      50\n",
       "0       47\n",
       "1       42\n",
       "6       39\n",
       "2       38\n",
       "7       23\n",
       "26      20\n",
       "9       19\n",
       "35      18\n",
       "11      18\n",
       "12      15\n",
       "18      14\n",
       "16      13\n",
       "24      12\n",
       "21      11\n",
       "29      11\n",
       "28      11\n",
       "40      10\n",
       "23      10\n",
       "14       9\n",
       "19       6\n",
       "13       6\n",
       "22       5\n",
       "17       3\n",
       "27       3\n",
       "50       2\n",
       "45       1\n",
       "31       1\n",
       "36       1\n",
       "44       1\n",
       "42       1\n",
       "38       1\n",
       "360      1\n",
       "Name: celly_buildingAge, dtype: int64"
      ]
     },
     "execution_count": 14,
     "metadata": {},
     "output_type": "execute_result"
    }
   ],
   "source": [
    "df.celly_buildingAge.value_counts()"
   ]
  },
  {
   "cell_type": "code",
   "execution_count": 15,
   "metadata": {},
   "outputs": [],
   "source": [
    "df.price=df.price.str.replace(r',','').astype(\"int64\")"
   ]
  },
  {
   "cell_type": "code",
   "execution_count": 16,
   "metadata": {},
   "outputs": [
    {
     "name": "stdout",
     "output_type": "stream",
     "text": [
      "<class 'pandas.core.frame.DataFrame'>\n",
      "Int64Index: 1127 entries, 0 to 1130\n",
      "Data columns (total 10 columns):\n",
      " #   Column                Non-Null Count  Dtype  \n",
      "---  ------                --------------  -----  \n",
      " 0   m2                    1126 non-null   float64\n",
      " 1   celly_houseRoomCount  1127 non-null   object \n",
      " 2   description           1127 non-null   object \n",
      " 3   isitma                1127 non-null   object \n",
      " 4   celly_buildingAge     1127 non-null   int64  \n",
      " 5   celly_floortype       1127 non-null   object \n",
      " 6   location              1127 non-null   object \n",
      " 7   days                  1127 non-null   object \n",
      " 8   price                 1127 non-null   int64  \n",
      " 9   deprem_sonrası        1127 non-null   int64  \n",
      "dtypes: float64(1), int64(3), object(6)\n",
      "memory usage: 96.9+ KB\n"
     ]
    }
   ],
   "source": [
    "df.info()"
   ]
  },
  {
   "cell_type": "code",
   "execution_count": 17,
   "metadata": {},
   "outputs": [
    {
     "data": {
      "text/html": [
       "<div>\n",
       "<style scoped>\n",
       "    .dataframe tbody tr th:only-of-type {\n",
       "        vertical-align: middle;\n",
       "    }\n",
       "\n",
       "    .dataframe tbody tr th {\n",
       "        vertical-align: top;\n",
       "    }\n",
       "\n",
       "    .dataframe thead th {\n",
       "        text-align: right;\n",
       "    }\n",
       "</style>\n",
       "<table border=\"1\" class=\"dataframe\">\n",
       "  <thead>\n",
       "    <tr style=\"text-align: right;\">\n",
       "      <th></th>\n",
       "      <th>m2</th>\n",
       "      <th>celly_houseRoomCount</th>\n",
       "      <th>description</th>\n",
       "      <th>isitma</th>\n",
       "      <th>celly_buildingAge</th>\n",
       "      <th>celly_floortype</th>\n",
       "      <th>location</th>\n",
       "      <th>days</th>\n",
       "      <th>price</th>\n",
       "      <th>deprem_sonrası</th>\n",
       "    </tr>\n",
       "  </thead>\n",
       "  <tbody>\n",
       "    <tr>\n",
       "      <th>0</th>\n",
       "      <td>95.0</td>\n",
       "      <td>2 + 1</td>\n",
       "      <td>baltalimanında 2+1 eşyalı daire</td>\n",
       "      <td>Kat Kaloriferi</td>\n",
       "      <td>25</td>\n",
       "      <td>1. Kat</td>\n",
       "      <td>Sarıyer,Baltalimanı Mahallesi</td>\n",
       "      <td>5 Temmuz 2020</td>\n",
       "      <td>4250</td>\n",
       "      <td>0</td>\n",
       "    </tr>\n",
       "    <tr>\n",
       "      <th>1</th>\n",
       "      <td>110.0</td>\n",
       "      <td>2 + 1</td>\n",
       "      <td>sahibinden full eşyalı daire</td>\n",
       "      <td>Kat Kaloriferi</td>\n",
       "      <td>20</td>\n",
       "      <td>boş</td>\n",
       "      <td>Sarıyer,Ayazağa Mahallesi</td>\n",
       "      <td>20 Haziran 2020</td>\n",
       "      <td>2700</td>\n",
       "      <td>1</td>\n",
       "    </tr>\n",
       "    <tr>\n",
       "      <th>2</th>\n",
       "      <td>0.0</td>\n",
       "      <td>4 + 1</td>\n",
       "      <td>tarabya sanatcılar sitesinde ferah teraslı 4+...</td>\n",
       "      <td>Kat Kaloriferi</td>\n",
       "      <td>20</td>\n",
       "      <td>Çatı Katı</td>\n",
       "      <td>Sarıyer,Tarabya Mahallesi</td>\n",
       "      <td>13 Temmuz 2020</td>\n",
       "      <td>5500</td>\n",
       "      <td>1</td>\n",
       "    </tr>\n",
       "    <tr>\n",
       "      <th>3</th>\n",
       "      <td>80.0</td>\n",
       "      <td>1 + 1</td>\n",
       "      <td>sariyer merkezde caddede ofise kuaföre vs.uyg...</td>\n",
       "      <td>Klima</td>\n",
       "      <td>20</td>\n",
       "      <td>2. Kat</td>\n",
       "      <td>Sarıyer,Merkez Mahallesi</td>\n",
       "      <td>7 Temmuz 2020</td>\n",
       "      <td>2250</td>\n",
       "      <td>1</td>\n",
       "    </tr>\n",
       "    <tr>\n",
       "      <th>4</th>\n",
       "      <td>80.0</td>\n",
       "      <td>1 + 1</td>\n",
       "      <td>sarıyer ayazağa meydan 1+1 eşyalı kiralık dai...</td>\n",
       "      <td>Klima</td>\n",
       "      <td>14</td>\n",
       "      <td>6. Kat</td>\n",
       "      <td>Sarıyer,Ayazağa Mahallesi</td>\n",
       "      <td>11 Temmuz 2020</td>\n",
       "      <td>1600</td>\n",
       "      <td>1</td>\n",
       "    </tr>\n",
       "  </tbody>\n",
       "</table>\n",
       "</div>"
      ],
      "text/plain": [
       "      m2 celly_houseRoomCount  \\\n",
       "0   95.0                2 + 1   \n",
       "1  110.0                2 + 1   \n",
       "2    0.0                4 + 1   \n",
       "3   80.0                1 + 1   \n",
       "4   80.0                1 + 1   \n",
       "\n",
       "                                         description          isitma  \\\n",
       "0                   baltalimanında 2+1 eşyalı daire   Kat Kaloriferi   \n",
       "1                       sahibinden full eşyalı daire  Kat Kaloriferi   \n",
       "2   tarabya sanatcılar sitesinde ferah teraslı 4+...  Kat Kaloriferi   \n",
       "3   sariyer merkezde caddede ofise kuaföre vs.uyg...           Klima   \n",
       "4   sarıyer ayazağa meydan 1+1 eşyalı kiralık dai...           Klima   \n",
       "\n",
       "   celly_buildingAge celly_floortype                       location  \\\n",
       "0                 25          1. Kat  Sarıyer,Baltalimanı Mahallesi   \n",
       "1                 20             boş      Sarıyer,Ayazağa Mahallesi   \n",
       "2                 20       Çatı Katı      Sarıyer,Tarabya Mahallesi   \n",
       "3                 20          2. Kat       Sarıyer,Merkez Mahallesi   \n",
       "4                 14          6. Kat      Sarıyer,Ayazağa Mahallesi   \n",
       "\n",
       "              days  price  deprem_sonrası  \n",
       "0    5 Temmuz 2020   4250               0  \n",
       "1  20 Haziran 2020   2700               1  \n",
       "2   13 Temmuz 2020   5500               1  \n",
       "3    7 Temmuz 2020   2250               1  \n",
       "4   11 Temmuz 2020   1600               1  "
      ]
     },
     "execution_count": 17,
     "metadata": {},
     "output_type": "execute_result"
    }
   ],
   "source": [
    "df.head()"
   ]
  },
  {
   "cell_type": "code",
   "execution_count": 18,
   "metadata": {},
   "outputs": [
    {
     "data": {
      "text/plain": [
       "3 + 1     328\n",
       "1 + 1     257\n",
       "2 + 1     237\n",
       "4 + 1     149\n",
       "5 + 1      74\n",
       "Stüdyo     37\n",
       "5 + 2      15\n",
       "4 + 2       9\n",
       "6 + 1       6\n",
       "7 + 1       4\n",
       "3 + 2       3\n",
       "7 + 2       3\n",
       "5 + 3       1\n",
       "6 + 2       1\n",
       "3 + 0       1\n",
       "4 + 4       1\n",
       "31 + 1      1\n",
       "Name: celly_houseRoomCount, dtype: int64"
      ]
     },
     "execution_count": 18,
     "metadata": {},
     "output_type": "execute_result"
    }
   ],
   "source": [
    "df.celly_houseRoomCount.value_counts()"
   ]
  },
  {
   "cell_type": "code",
   "execution_count": 19,
   "metadata": {},
   "outputs": [
    {
     "data": {
      "text/html": [
       "<div>\n",
       "<style scoped>\n",
       "    .dataframe tbody tr th:only-of-type {\n",
       "        vertical-align: middle;\n",
       "    }\n",
       "\n",
       "    .dataframe tbody tr th {\n",
       "        vertical-align: top;\n",
       "    }\n",
       "\n",
       "    .dataframe thead th {\n",
       "        text-align: right;\n",
       "    }\n",
       "</style>\n",
       "<table border=\"1\" class=\"dataframe\">\n",
       "  <thead>\n",
       "    <tr style=\"text-align: right;\">\n",
       "      <th></th>\n",
       "      <th>m2</th>\n",
       "      <th>celly_houseRoomCount</th>\n",
       "      <th>description</th>\n",
       "      <th>isitma</th>\n",
       "      <th>celly_buildingAge</th>\n",
       "      <th>celly_floortype</th>\n",
       "      <th>location</th>\n",
       "      <th>days</th>\n",
       "      <th>price</th>\n",
       "      <th>deprem_sonrası</th>\n",
       "    </tr>\n",
       "  </thead>\n",
       "  <tbody>\n",
       "    <tr>\n",
       "      <th>12</th>\n",
       "      <td>54.0</td>\n",
       "      <td>Stüdyo</td>\n",
       "      <td>skyland istanbul eşyalı 1+0 kiralık daire</td>\n",
       "      <td>Klima</td>\n",
       "      <td>2</td>\n",
       "      <td>2. Kat</td>\n",
       "      <td>Sarıyer,Ayazağa Mahallesi</td>\n",
       "      <td>11 Temmuz 2020</td>\n",
       "      <td>3250</td>\n",
       "      <td>1</td>\n",
       "    </tr>\n",
       "    <tr>\n",
       "      <th>22</th>\n",
       "      <td>60.0</td>\n",
       "      <td>Stüdyo</td>\n",
       "      <td>sarıyer büyükdere mahallesinde (bayana)</td>\n",
       "      <td>Kombi</td>\n",
       "      <td>25</td>\n",
       "      <td>Bahçe Katı</td>\n",
       "      <td>Sarıyer,Büyükdere Mahallesi</td>\n",
       "      <td>13 Temmuz 2020</td>\n",
       "      <td>500</td>\n",
       "      <td>0</td>\n",
       "    </tr>\n",
       "    <tr>\n",
       "      <th>183</th>\n",
       "      <td>60.0</td>\n",
       "      <td>Stüdyo</td>\n",
       "      <td>tarabyaüstü elit bölge ulaşım yakın 1+0 bayan...</td>\n",
       "      <td>Kombi</td>\n",
       "      <td>20</td>\n",
       "      <td>Giriş Katı</td>\n",
       "      <td>Sarıyer,Tarabya Mahallesi</td>\n",
       "      <td>13 Temmuz 2020</td>\n",
       "      <td>1200</td>\n",
       "      <td>1</td>\n",
       "    </tr>\n",
       "    <tr>\n",
       "      <th>522</th>\n",
       "      <td>40.0</td>\n",
       "      <td>Stüdyo</td>\n",
       "      <td>kireçburnu sahile 200 metre mesafede internet...</td>\n",
       "      <td>Kombi</td>\n",
       "      <td>25</td>\n",
       "      <td>2. Kat</td>\n",
       "      <td>Sarıyer,Kireçburnu Mahallesi</td>\n",
       "      <td>12 Temmuz 2020</td>\n",
       "      <td>1600</td>\n",
       "      <td>0</td>\n",
       "    </tr>\n",
       "    <tr>\n",
       "      <th>610</th>\n",
       "      <td>50.0</td>\n",
       "      <td>Stüdyo</td>\n",
       "      <td>sarıyer tam merkezde geniş 1+0 ..45 m'2..beka...</td>\n",
       "      <td>Kombi</td>\n",
       "      <td>20</td>\n",
       "      <td>3. Kat</td>\n",
       "      <td>Sarıyer,Merkez Mahallesi</td>\n",
       "      <td>23 Haziran 2020</td>\n",
       "      <td>1250</td>\n",
       "      <td>1</td>\n",
       "    </tr>\n",
       "    <tr>\n",
       "      <th>665</th>\n",
       "      <td>50.0</td>\n",
       "      <td>Stüdyo</td>\n",
       "      <td>yeniköy de eşyalı tek oda</td>\n",
       "      <td>Kombi</td>\n",
       "      <td>25</td>\n",
       "      <td>boş</td>\n",
       "      <td>Sarıyer,Yeniköy Mahallesi</td>\n",
       "      <td>4 Temmuz 2020</td>\n",
       "      <td>1400</td>\n",
       "      <td>0</td>\n",
       "    </tr>\n",
       "    <tr>\n",
       "      <th>684</th>\n",
       "      <td>45.0</td>\n",
       "      <td>Stüdyo</td>\n",
       "      <td>sarıyer zekeriyaköy panaroma life eşyalı stüd...</td>\n",
       "      <td>Merkezi</td>\n",
       "      <td>3</td>\n",
       "      <td>2. Kat</td>\n",
       "      <td>Sarıyer,Zekeriyaköy Mahallesi</td>\n",
       "      <td>10 Temmuz 2020</td>\n",
       "      <td>2500</td>\n",
       "      <td>1</td>\n",
       "    </tr>\n",
       "    <tr>\n",
       "      <th>691</th>\n",
       "      <td>64.0</td>\n",
       "      <td>Stüdyo</td>\n",
       "      <td>maslak 1453 kiralık daire 1+0 64m2</td>\n",
       "      <td>Merkezi</td>\n",
       "      <td>1</td>\n",
       "      <td>8. Kat</td>\n",
       "      <td>Sarıyer,Maslak Mahallesi</td>\n",
       "      <td>10 Temmuz 2020</td>\n",
       "      <td>3000</td>\n",
       "      <td>1</td>\n",
       "    </tr>\n",
       "    <tr>\n",
       "      <th>696</th>\n",
       "      <td>50.0</td>\n",
       "      <td>Stüdyo</td>\n",
       "      <td>vadikoru'da kiralık 1+0 stüdyo daire vadi ist...</td>\n",
       "      <td>Merkezi</td>\n",
       "      <td>0</td>\n",
       "      <td>4. Kat</td>\n",
       "      <td>Sarıyer,Ayazağa Mahallesi</td>\n",
       "      <td>4 Temmuz 2020</td>\n",
       "      <td>2500</td>\n",
       "      <td>1</td>\n",
       "    </tr>\n",
       "    <tr>\n",
       "      <th>747</th>\n",
       "      <td>64.0</td>\n",
       "      <td>Stüdyo</td>\n",
       "      <td>maslak 1453 kiralık daire 1+0</td>\n",
       "      <td>Merkezi</td>\n",
       "      <td>1</td>\n",
       "      <td>8. Kat</td>\n",
       "      <td>Sarıyer,Maslak Mahallesi</td>\n",
       "      <td>10 Temmuz 2020</td>\n",
       "      <td>2800</td>\n",
       "      <td>1</td>\n",
       "    </tr>\n",
       "    <tr>\n",
       "      <th>803</th>\n",
       "      <td>45.0</td>\n",
       "      <td>Stüdyo</td>\n",
       "      <td>sarıyer merkeze yürüme mesafesinde 1+0 studyo...</td>\n",
       "      <td>Soba</td>\n",
       "      <td>20</td>\n",
       "      <td>Yüksek Giriş</td>\n",
       "      <td>Sarıyer,Merkez Mahallesi</td>\n",
       "      <td>28 Haziran 2020</td>\n",
       "      <td>750</td>\n",
       "      <td>1</td>\n",
       "    </tr>\n",
       "    <tr>\n",
       "      <th>804</th>\n",
       "      <td>30.0</td>\n",
       "      <td>Stüdyo</td>\n",
       "      <td>1+0 kiralık daire</td>\n",
       "      <td>Soba</td>\n",
       "      <td>8</td>\n",
       "      <td>Zemin</td>\n",
       "      <td>Sarıyer,Merkez Mahallesi</td>\n",
       "      <td>7 Temmuz 2020</td>\n",
       "      <td>750</td>\n",
       "      <td>1</td>\n",
       "    </tr>\n",
       "    <tr>\n",
       "      <th>815</th>\n",
       "      <td>6.0</td>\n",
       "      <td>Stüdyo</td>\n",
       "      <td>skyland vadistanbul mobilyalı kiralık daire</td>\n",
       "      <td>Merkezi (Pay Ölçer)</td>\n",
       "      <td>4</td>\n",
       "      <td>21 ve üzeri</td>\n",
       "      <td>Sarıyer,Huzur Mahallesi</td>\n",
       "      <td>13 Temmuz 2020</td>\n",
       "      <td>3500</td>\n",
       "      <td>1</td>\n",
       "    </tr>\n",
       "    <tr>\n",
       "      <th>818</th>\n",
       "      <td>45.0</td>\n",
       "      <td>Stüdyo</td>\n",
       "      <td>zekeriyaköy panaroma life 1+0 kiralık eşyalı ...</td>\n",
       "      <td>Merkezi (Pay Ölçer)</td>\n",
       "      <td>5</td>\n",
       "      <td>1. Kat</td>\n",
       "      <td>Sarıyer,Zekeriyaköy Mahallesi</td>\n",
       "      <td>13 Temmuz 2020</td>\n",
       "      <td>2500</td>\n",
       "      <td>1</td>\n",
       "    </tr>\n",
       "    <tr>\n",
       "      <th>829</th>\n",
       "      <td>60.0</td>\n",
       "      <td>Stüdyo</td>\n",
       "      <td>sarıyer turyap tan panorama home da eşyalı st...</td>\n",
       "      <td>Merkezi (Pay Ölçer)</td>\n",
       "      <td>6</td>\n",
       "      <td>3. Kat</td>\n",
       "      <td>Sarıyer,Maden Mahallesi</td>\n",
       "      <td>9 Temmuz 2020</td>\n",
       "      <td>2500</td>\n",
       "      <td>1</td>\n",
       "    </tr>\n",
       "    <tr>\n",
       "      <th>840</th>\n",
       "      <td>65.0</td>\n",
       "      <td>Stüdyo</td>\n",
       "      <td>ağaoglu maslak 1453'te kiralık güncel 1+1( te...</td>\n",
       "      <td>Merkezi (Pay Ölçer)</td>\n",
       "      <td>5</td>\n",
       "      <td>7. Kat</td>\n",
       "      <td>Sarıyer,Maslak Mahallesi</td>\n",
       "      <td>6 Temmuz 2020</td>\n",
       "      <td>4000</td>\n",
       "      <td>1</td>\n",
       "    </tr>\n",
       "    <tr>\n",
       "      <th>841</th>\n",
       "      <td>60.0</td>\n",
       "      <td>Stüdyo</td>\n",
       "      <td>sarıyer maslak eclipse residence 1+0 güncel ş...</td>\n",
       "      <td>Merkezi (Pay Ölçer)</td>\n",
       "      <td>6</td>\n",
       "      <td>5. Kat</td>\n",
       "      <td>Sarıyer,Maslak Mahallesi</td>\n",
       "      <td>13 Temmuz 2020</td>\n",
       "      <td>2600</td>\n",
       "      <td>1</td>\n",
       "    </tr>\n",
       "    <tr>\n",
       "      <th>865</th>\n",
       "      <td>65.0</td>\n",
       "      <td>Stüdyo</td>\n",
       "      <td>ağaoglu maslak 1453'te güncel kiralık 1+0 res...</td>\n",
       "      <td>Merkezi (Pay Ölçer)</td>\n",
       "      <td>2</td>\n",
       "      <td>2. Kat</td>\n",
       "      <td>Sarıyer,Maslak Mahallesi</td>\n",
       "      <td>6 Temmuz 2020</td>\n",
       "      <td>3000</td>\n",
       "      <td>1</td>\n",
       "    </tr>\n",
       "    <tr>\n",
       "      <th>903</th>\n",
       "      <td>73.0</td>\n",
       "      <td>Stüdyo</td>\n",
       "      <td>maslak agaoglu 1453 residence for rent 1+0 st...</td>\n",
       "      <td>Merkezi (Pay Ölçer)</td>\n",
       "      <td>3</td>\n",
       "      <td>5. Kat</td>\n",
       "      <td>Sarıyer,Maslak Mahallesi</td>\n",
       "      <td>13 Temmuz 2020</td>\n",
       "      <td>2800</td>\n",
       "      <td>1</td>\n",
       "    </tr>\n",
       "    <tr>\n",
       "      <th>927</th>\n",
       "      <td>73.0</td>\n",
       "      <td>Stüdyo</td>\n",
       "      <td>maslak ağaoğlu 1453 sitesi kiralık 1+0 stüdyo...</td>\n",
       "      <td>Merkezi (Pay Ölçer)</td>\n",
       "      <td>3</td>\n",
       "      <td>4. Kat</td>\n",
       "      <td>Sarıyer,Maslak Mahallesi</td>\n",
       "      <td>13 Temmuz 2020</td>\n",
       "      <td>2800</td>\n",
       "      <td>1</td>\n",
       "    </tr>\n",
       "    <tr>\n",
       "      <th>935</th>\n",
       "      <td>70.0</td>\n",
       "      <td>Stüdyo</td>\n",
       "      <td>sarıyer maslak ağaoğlu 1453 full eşyalı kısa ...</td>\n",
       "      <td>Merkezi (Pay Ölçer)</td>\n",
       "      <td>5</td>\n",
       "      <td>10. Kat</td>\n",
       "      <td>Sarıyer,Maslak Mahallesi</td>\n",
       "      <td>13 Temmuz 2020</td>\n",
       "      <td>3750</td>\n",
       "      <td>1</td>\n",
       "    </tr>\n",
       "    <tr>\n",
       "      <th>972</th>\n",
       "      <td>64.0</td>\n",
       "      <td>Stüdyo</td>\n",
       "      <td>skyland tower kiralık 1+0 eşyalı daire</td>\n",
       "      <td>Merkezi (Pay Ölçer)</td>\n",
       "      <td>3</td>\n",
       "      <td>2. Kat</td>\n",
       "      <td>Sarıyer,Huzur Mahallesi</td>\n",
       "      <td>8 Temmuz 2020</td>\n",
       "      <td>3250</td>\n",
       "      <td>1</td>\n",
       "    </tr>\n",
       "    <tr>\n",
       "      <th>981</th>\n",
       "      <td>57.0</td>\n",
       "      <td>Stüdyo</td>\n",
       "      <td>sarıyer vadikoru sitesi 1+0 satılık daire</td>\n",
       "      <td>Merkezi (Pay Ölçer)</td>\n",
       "      <td>0</td>\n",
       "      <td>5. Kat</td>\n",
       "      <td>Sarıyer,Ayazağa Mahallesi</td>\n",
       "      <td>8 Temmuz 2020</td>\n",
       "      <td>2700</td>\n",
       "      <td>1</td>\n",
       "    </tr>\n",
       "    <tr>\n",
       "      <th>987</th>\n",
       "      <td>57.0</td>\n",
       "      <td>Stüdyo</td>\n",
       "      <td>sarıyer ayazağa vadikoru sitesi kiralık 1+0 d...</td>\n",
       "      <td>Merkezi (Pay Ölçer)</td>\n",
       "      <td>1</td>\n",
       "      <td>14. Kat</td>\n",
       "      <td>Sarıyer,Ayazağa Mahallesi</td>\n",
       "      <td>6 Temmuz 2020</td>\n",
       "      <td>2700</td>\n",
       "      <td>1</td>\n",
       "    </tr>\n",
       "    <tr>\n",
       "      <th>989</th>\n",
       "      <td>70.0</td>\n",
       "      <td>Stüdyo</td>\n",
       "      <td>maslak ağaoğlu 1453 kiralık 1+0 kiralık daire</td>\n",
       "      <td>Merkezi (Pay Ölçer)</td>\n",
       "      <td>3</td>\n",
       "      <td>1. Kat</td>\n",
       "      <td>Sarıyer,Maslak Mahallesi</td>\n",
       "      <td>11 Temmuz 2020</td>\n",
       "      <td>2800</td>\n",
       "      <td>1</td>\n",
       "    </tr>\n",
       "    <tr>\n",
       "      <th>994</th>\n",
       "      <td>86.0</td>\n",
       "      <td>Stüdyo</td>\n",
       "      <td>ağaoğlu maslak 1453'de kiralık 1+0 fırsat gün...</td>\n",
       "      <td>Merkezi (Pay Ölçer)</td>\n",
       "      <td>5</td>\n",
       "      <td>11. Kat</td>\n",
       "      <td>Sarıyer,Maslak Mahallesi</td>\n",
       "      <td>13 Temmuz 2020</td>\n",
       "      <td>2700</td>\n",
       "      <td>1</td>\n",
       "    </tr>\n",
       "    <tr>\n",
       "      <th>999</th>\n",
       "      <td>51.0</td>\n",
       "      <td>Stüdyo</td>\n",
       "      <td>sarıyer maslak 1453 sitesi kiralık eşyalı 1+0...</td>\n",
       "      <td>Merkezi (Pay Ölçer)</td>\n",
       "      <td>3</td>\n",
       "      <td>11. Kat</td>\n",
       "      <td>Sarıyer,Maslak Mahallesi</td>\n",
       "      <td>4 Temmuz 2020</td>\n",
       "      <td>3600</td>\n",
       "      <td>1</td>\n",
       "    </tr>\n",
       "    <tr>\n",
       "      <th>1019</th>\n",
       "      <td>64.0</td>\n",
       "      <td>Stüdyo</td>\n",
       "      <td>skyland tower kiralık 1+0 eşyalı daire</td>\n",
       "      <td>Merkezi (Pay Ölçer)</td>\n",
       "      <td>3</td>\n",
       "      <td>21 ve üzeri</td>\n",
       "      <td>Sarıyer,Huzur Mahallesi</td>\n",
       "      <td>4 Temmuz 2020</td>\n",
       "      <td>3250</td>\n",
       "      <td>1</td>\n",
       "    </tr>\n",
       "    <tr>\n",
       "      <th>1031</th>\n",
       "      <td>7.0</td>\n",
       "      <td>Stüdyo</td>\n",
       "      <td>sarıyer maslak ağaoğlu 1453 kiralık 1+0 fırsa...</td>\n",
       "      <td>Merkezi (Pay Ölçer)</td>\n",
       "      <td>2</td>\n",
       "      <td>3. Kat</td>\n",
       "      <td>Sarıyer,Maslak Mahallesi</td>\n",
       "      <td>7 Temmuz 2020</td>\n",
       "      <td>2750</td>\n",
       "      <td>1</td>\n",
       "    </tr>\n",
       "    <tr>\n",
       "      <th>1045</th>\n",
       "      <td>73.0</td>\n",
       "      <td>Stüdyo</td>\n",
       "      <td>sarıyer maslak ağaoğlu 1453 sitesi kiralık 1+...</td>\n",
       "      <td>Merkezi (Pay Ölçer)</td>\n",
       "      <td>1</td>\n",
       "      <td>3. Kat</td>\n",
       "      <td>Sarıyer,Maslak Mahallesi</td>\n",
       "      <td>7 Temmuz 2020</td>\n",
       "      <td>2800</td>\n",
       "      <td>1</td>\n",
       "    </tr>\n",
       "    <tr>\n",
       "      <th>1066</th>\n",
       "      <td>54.0</td>\n",
       "      <td>Stüdyo</td>\n",
       "      <td>skyland istanbul projesi kiralık 1+0 daire</td>\n",
       "      <td>Merkezi (Pay Ölçer)</td>\n",
       "      <td>1</td>\n",
       "      <td>3. Kat</td>\n",
       "      <td>Sarıyer,Huzur Mahallesi</td>\n",
       "      <td>29 Haziran 2020</td>\n",
       "      <td>3250</td>\n",
       "      <td>1</td>\n",
       "    </tr>\n",
       "    <tr>\n",
       "      <th>1091</th>\n",
       "      <td>6.0</td>\n",
       "      <td>Stüdyo</td>\n",
       "      <td>cb real'den skyland istanbul'da büyük tip 1+0...</td>\n",
       "      <td>Merkezi (Pay Ölçer)</td>\n",
       "      <td>2</td>\n",
       "      <td>13. Kat</td>\n",
       "      <td>Sarıyer,Huzur Mahallesi</td>\n",
       "      <td>29 Haziran 2020</td>\n",
       "      <td>3000</td>\n",
       "      <td>1</td>\n",
       "    </tr>\n",
       "    <tr>\n",
       "      <th>1093</th>\n",
       "      <td>6.0</td>\n",
       "      <td>Stüdyo</td>\n",
       "      <td>skyland istanbul'da büyük tip 1+0 kiralık daire</td>\n",
       "      <td>Merkezi (Pay Ölçer)</td>\n",
       "      <td>2</td>\n",
       "      <td>8. Kat</td>\n",
       "      <td>Sarıyer,Huzur Mahallesi</td>\n",
       "      <td>3 Temmuz 2020</td>\n",
       "      <td>2900</td>\n",
       "      <td>1</td>\n",
       "    </tr>\n",
       "    <tr>\n",
       "      <th>1097</th>\n",
       "      <td>46.0</td>\n",
       "      <td>Stüdyo</td>\n",
       "      <td>zekeriyaköy panaroma lıfe eşyalı sütüdyo daire.</td>\n",
       "      <td>Merkezi (Pay Ölçer)</td>\n",
       "      <td>2</td>\n",
       "      <td>1. Kat</td>\n",
       "      <td>Sarıyer,Zekeriyaköy Mahallesi</td>\n",
       "      <td>2 Haziran 2020</td>\n",
       "      <td>2500</td>\n",
       "      <td>1</td>\n",
       "    </tr>\n",
       "    <tr>\n",
       "      <th>1101</th>\n",
       "      <td>45.0</td>\n",
       "      <td>Stüdyo</td>\n",
       "      <td>panaroma lıfe eşyalı sütüdyo daire.</td>\n",
       "      <td>Merkezi (Pay Ölçer)</td>\n",
       "      <td>2</td>\n",
       "      <td>boş</td>\n",
       "      <td>Sarıyer,Zekeriyaköy Mahallesi</td>\n",
       "      <td>28 Haziran 2020</td>\n",
       "      <td>2500</td>\n",
       "      <td>1</td>\n",
       "    </tr>\n",
       "    <tr>\n",
       "      <th>1107</th>\n",
       "      <td>58.0</td>\n",
       "      <td>Stüdyo</td>\n",
       "      <td>sarıyer maslak 1453 sitesi 1+0 eşyalı kiralık...</td>\n",
       "      <td>Merkezi (Pay Ölçer)</td>\n",
       "      <td>4</td>\n",
       "      <td>5. Kat</td>\n",
       "      <td>Sarıyer,Maslak Mahallesi</td>\n",
       "      <td>4 Temmuz 2020</td>\n",
       "      <td>3600</td>\n",
       "      <td>1</td>\n",
       "    </tr>\n",
       "    <tr>\n",
       "      <th>1111</th>\n",
       "      <td>65.0</td>\n",
       "      <td>Stüdyo</td>\n",
       "      <td>maslak 1453 sarıyer 1+0 eşyalı kiralık sarıyer</td>\n",
       "      <td>Merkezi (Pay Ölçer)</td>\n",
       "      <td>4</td>\n",
       "      <td>4. Kat</td>\n",
       "      <td>Sarıyer,Maslak Mahallesi</td>\n",
       "      <td>11 Temmuz 2020</td>\n",
       "      <td>3600</td>\n",
       "      <td>1</td>\n",
       "    </tr>\n",
       "  </tbody>\n",
       "</table>\n",
       "</div>"
      ],
      "text/plain": [
       "        m2 celly_houseRoomCount  \\\n",
       "12    54.0               Stüdyo   \n",
       "22    60.0               Stüdyo   \n",
       "183   60.0               Stüdyo   \n",
       "522   40.0               Stüdyo   \n",
       "610   50.0               Stüdyo   \n",
       "665   50.0               Stüdyo   \n",
       "684   45.0               Stüdyo   \n",
       "691   64.0               Stüdyo   \n",
       "696   50.0               Stüdyo   \n",
       "747   64.0               Stüdyo   \n",
       "803   45.0               Stüdyo   \n",
       "804   30.0               Stüdyo   \n",
       "815    6.0               Stüdyo   \n",
       "818   45.0               Stüdyo   \n",
       "829   60.0               Stüdyo   \n",
       "840   65.0               Stüdyo   \n",
       "841   60.0               Stüdyo   \n",
       "865   65.0               Stüdyo   \n",
       "903   73.0               Stüdyo   \n",
       "927   73.0               Stüdyo   \n",
       "935   70.0               Stüdyo   \n",
       "972   64.0               Stüdyo   \n",
       "981   57.0               Stüdyo   \n",
       "987   57.0               Stüdyo   \n",
       "989   70.0               Stüdyo   \n",
       "994   86.0               Stüdyo   \n",
       "999   51.0               Stüdyo   \n",
       "1019  64.0               Stüdyo   \n",
       "1031   7.0               Stüdyo   \n",
       "1045  73.0               Stüdyo   \n",
       "1066  54.0               Stüdyo   \n",
       "1091   6.0               Stüdyo   \n",
       "1093   6.0               Stüdyo   \n",
       "1097  46.0               Stüdyo   \n",
       "1101  45.0               Stüdyo   \n",
       "1107  58.0               Stüdyo   \n",
       "1111  65.0               Stüdyo   \n",
       "\n",
       "                                            description               isitma  \\\n",
       "12            skyland istanbul eşyalı 1+0 kiralık daire                Klima   \n",
       "22              sarıyer büyükdere mahallesinde (bayana)                Kombi   \n",
       "183    tarabyaüstü elit bölge ulaşım yakın 1+0 bayan...                Kombi   \n",
       "522    kireçburnu sahile 200 metre mesafede internet...                Kombi   \n",
       "610    sarıyer tam merkezde geniş 1+0 ..45 m'2..beka...                Kombi   \n",
       "665                          yeniköy de eşyalı tek oda                 Kombi   \n",
       "684    sarıyer zekeriyaköy panaroma life eşyalı stüd...              Merkezi   \n",
       "691                  maslak 1453 kiralık daire 1+0 64m2              Merkezi   \n",
       "696    vadikoru'da kiralık 1+0 stüdyo daire vadi ist...              Merkezi   \n",
       "747                       maslak 1453 kiralık daire 1+0              Merkezi   \n",
       "803    sarıyer merkeze yürüme mesafesinde 1+0 studyo...                 Soba   \n",
       "804                                   1+0 kiralık daire                 Soba   \n",
       "815         skyland vadistanbul mobilyalı kiralık daire  Merkezi (Pay Ölçer)   \n",
       "818    zekeriyaköy panaroma life 1+0 kiralık eşyalı ...  Merkezi (Pay Ölçer)   \n",
       "829    sarıyer turyap tan panorama home da eşyalı st...  Merkezi (Pay Ölçer)   \n",
       "840    ağaoglu maslak 1453'te kiralık güncel 1+1( te...  Merkezi (Pay Ölçer)   \n",
       "841    sarıyer maslak eclipse residence 1+0 güncel ş...  Merkezi (Pay Ölçer)   \n",
       "865    ağaoglu maslak 1453'te güncel kiralık 1+0 res...  Merkezi (Pay Ölçer)   \n",
       "903    maslak agaoglu 1453 residence for rent 1+0 st...  Merkezi (Pay Ölçer)   \n",
       "927    maslak ağaoğlu 1453 sitesi kiralık 1+0 stüdyo...  Merkezi (Pay Ölçer)   \n",
       "935    sarıyer maslak ağaoğlu 1453 full eşyalı kısa ...  Merkezi (Pay Ölçer)   \n",
       "972              skyland tower kiralık 1+0 eşyalı daire  Merkezi (Pay Ölçer)   \n",
       "981           sarıyer vadikoru sitesi 1+0 satılık daire  Merkezi (Pay Ölçer)   \n",
       "987    sarıyer ayazağa vadikoru sitesi kiralık 1+0 d...  Merkezi (Pay Ölçer)   \n",
       "989       maslak ağaoğlu 1453 kiralık 1+0 kiralık daire  Merkezi (Pay Ölçer)   \n",
       "994    ağaoğlu maslak 1453'de kiralık 1+0 fırsat gün...  Merkezi (Pay Ölçer)   \n",
       "999    sarıyer maslak 1453 sitesi kiralık eşyalı 1+0...  Merkezi (Pay Ölçer)   \n",
       "1019             skyland tower kiralık 1+0 eşyalı daire  Merkezi (Pay Ölçer)   \n",
       "1031   sarıyer maslak ağaoğlu 1453 kiralık 1+0 fırsa...  Merkezi (Pay Ölçer)   \n",
       "1045   sarıyer maslak ağaoğlu 1453 sitesi kiralık 1+...  Merkezi (Pay Ölçer)   \n",
       "1066         skyland istanbul projesi kiralık 1+0 daire  Merkezi (Pay Ölçer)   \n",
       "1091   cb real'den skyland istanbul'da büyük tip 1+0...  Merkezi (Pay Ölçer)   \n",
       "1093    skyland istanbul'da büyük tip 1+0 kiralık daire  Merkezi (Pay Ölçer)   \n",
       "1097    zekeriyaköy panaroma lıfe eşyalı sütüdyo daire.  Merkezi (Pay Ölçer)   \n",
       "1101               panaroma lıfe eşyalı sütüdyo daire.   Merkezi (Pay Ölçer)   \n",
       "1107   sarıyer maslak 1453 sitesi 1+0 eşyalı kiralık...  Merkezi (Pay Ölçer)   \n",
       "1111     maslak 1453 sarıyer 1+0 eşyalı kiralık sarıyer  Merkezi (Pay Ölçer)   \n",
       "\n",
       "      celly_buildingAge celly_floortype                       location  \\\n",
       "12                    2          2. Kat      Sarıyer,Ayazağa Mahallesi   \n",
       "22                   25      Bahçe Katı    Sarıyer,Büyükdere Mahallesi   \n",
       "183                  20      Giriş Katı      Sarıyer,Tarabya Mahallesi   \n",
       "522                  25          2. Kat   Sarıyer,Kireçburnu Mahallesi   \n",
       "610                  20          3. Kat       Sarıyer,Merkez Mahallesi   \n",
       "665                  25             boş      Sarıyer,Yeniköy Mahallesi   \n",
       "684                   3          2. Kat  Sarıyer,Zekeriyaköy Mahallesi   \n",
       "691                   1          8. Kat       Sarıyer,Maslak Mahallesi   \n",
       "696                   0          4. Kat      Sarıyer,Ayazağa Mahallesi   \n",
       "747                   1          8. Kat       Sarıyer,Maslak Mahallesi   \n",
       "803                  20    Yüksek Giriş       Sarıyer,Merkez Mahallesi   \n",
       "804                   8           Zemin       Sarıyer,Merkez Mahallesi   \n",
       "815                   4     21 ve üzeri        Sarıyer,Huzur Mahallesi   \n",
       "818                   5          1. Kat  Sarıyer,Zekeriyaköy Mahallesi   \n",
       "829                   6          3. Kat        Sarıyer,Maden Mahallesi   \n",
       "840                   5          7. Kat       Sarıyer,Maslak Mahallesi   \n",
       "841                   6          5. Kat       Sarıyer,Maslak Mahallesi   \n",
       "865                   2          2. Kat       Sarıyer,Maslak Mahallesi   \n",
       "903                   3          5. Kat       Sarıyer,Maslak Mahallesi   \n",
       "927                   3          4. Kat       Sarıyer,Maslak Mahallesi   \n",
       "935                   5         10. Kat       Sarıyer,Maslak Mahallesi   \n",
       "972                   3          2. Kat        Sarıyer,Huzur Mahallesi   \n",
       "981                   0          5. Kat      Sarıyer,Ayazağa Mahallesi   \n",
       "987                   1         14. Kat      Sarıyer,Ayazağa Mahallesi   \n",
       "989                   3          1. Kat       Sarıyer,Maslak Mahallesi   \n",
       "994                   5         11. Kat       Sarıyer,Maslak Mahallesi   \n",
       "999                   3         11. Kat       Sarıyer,Maslak Mahallesi   \n",
       "1019                  3     21 ve üzeri        Sarıyer,Huzur Mahallesi   \n",
       "1031                  2          3. Kat       Sarıyer,Maslak Mahallesi   \n",
       "1045                  1          3. Kat       Sarıyer,Maslak Mahallesi   \n",
       "1066                  1          3. Kat        Sarıyer,Huzur Mahallesi   \n",
       "1091                  2         13. Kat        Sarıyer,Huzur Mahallesi   \n",
       "1093                  2          8. Kat        Sarıyer,Huzur Mahallesi   \n",
       "1097                  2          1. Kat  Sarıyer,Zekeriyaköy Mahallesi   \n",
       "1101                  2             boş  Sarıyer,Zekeriyaköy Mahallesi   \n",
       "1107                  4          5. Kat       Sarıyer,Maslak Mahallesi   \n",
       "1111                  4          4. Kat       Sarıyer,Maslak Mahallesi   \n",
       "\n",
       "                 days  price  deprem_sonrası  \n",
       "12     11 Temmuz 2020   3250               1  \n",
       "22     13 Temmuz 2020    500               0  \n",
       "183    13 Temmuz 2020   1200               1  \n",
       "522    12 Temmuz 2020   1600               0  \n",
       "610   23 Haziran 2020   1250               1  \n",
       "665     4 Temmuz 2020   1400               0  \n",
       "684    10 Temmuz 2020   2500               1  \n",
       "691    10 Temmuz 2020   3000               1  \n",
       "696     4 Temmuz 2020   2500               1  \n",
       "747    10 Temmuz 2020   2800               1  \n",
       "803   28 Haziran 2020    750               1  \n",
       "804     7 Temmuz 2020    750               1  \n",
       "815    13 Temmuz 2020   3500               1  \n",
       "818    13 Temmuz 2020   2500               1  \n",
       "829     9 Temmuz 2020   2500               1  \n",
       "840     6 Temmuz 2020   4000               1  \n",
       "841    13 Temmuz 2020   2600               1  \n",
       "865     6 Temmuz 2020   3000               1  \n",
       "903    13 Temmuz 2020   2800               1  \n",
       "927    13 Temmuz 2020   2800               1  \n",
       "935    13 Temmuz 2020   3750               1  \n",
       "972     8 Temmuz 2020   3250               1  \n",
       "981     8 Temmuz 2020   2700               1  \n",
       "987     6 Temmuz 2020   2700               1  \n",
       "989    11 Temmuz 2020   2800               1  \n",
       "994    13 Temmuz 2020   2700               1  \n",
       "999     4 Temmuz 2020   3600               1  \n",
       "1019    4 Temmuz 2020   3250               1  \n",
       "1031    7 Temmuz 2020   2750               1  \n",
       "1045    7 Temmuz 2020   2800               1  \n",
       "1066  29 Haziran 2020   3250               1  \n",
       "1091  29 Haziran 2020   3000               1  \n",
       "1093    3 Temmuz 2020   2900               1  \n",
       "1097   2 Haziran 2020   2500               1  \n",
       "1101  28 Haziran 2020   2500               1  \n",
       "1107    4 Temmuz 2020   3600               1  \n",
       "1111   11 Temmuz 2020   3600               1  "
      ]
     },
     "execution_count": 19,
     "metadata": {},
     "output_type": "execute_result"
    }
   ],
   "source": [
    "df[df.celly_houseRoomCount==\"Stüdyo\"]"
   ]
  },
  {
   "cell_type": "code",
   "execution_count": 20,
   "metadata": {},
   "outputs": [],
   "source": [
    "df.celly_floortype=df.celly_floortype.str.strip(\" \")"
   ]
  },
  {
   "cell_type": "code",
   "execution_count": 21,
   "metadata": {},
   "outputs": [
    {
     "data": {
      "text/plain": [
       "array(['1. Kat', 'boş', 'Çatı Katı', '2. Kat', '6. Kat', '20. Kat',\n",
       "       'Bahçe Katı', '13. Kat', '8. Kat', '21 ve üzeri', '4. Kat',\n",
       "       '10. Kat', '14. Kat', '18. Kat', 'En Üst Kat', '17. Kat', '3. Kat',\n",
       "       'Ara Kat', 'Yüksek Giriş', 'Kot 1', '5. Kat', 'Giriş Katı',\n",
       "       'Teras Katı', '12. Kat', '7. Kat', 'Yarı Bodrum', 'Villa Katı',\n",
       "       'Kot 2', 'Zemin', '16. Kat', 'Kot 3', '15. Kat', '9. Kat',\n",
       "       '11. Kat', '19. Kat', 'Bodrum'], dtype=object)"
      ]
     },
     "execution_count": 21,
     "metadata": {},
     "output_type": "execute_result"
    }
   ],
   "source": [
    "df.celly_floortype.unique()"
   ]
  },
  {
   "cell_type": "code",
   "execution_count": 22,
   "metadata": {},
   "outputs": [],
   "source": [
    "katlar=df.celly_floortype.to_list()\n",
    "yeni=[]\n",
    "for kat in katlar:\n",
    "    if(kat==\"Kot 3\"):\n",
    "        yeni.append(\"Kot\")\n",
    "    elif(kat==\"Kot 2\"):\n",
    "        yeni.append(\"Kot\")\n",
    "    elif(kat==\"Kot 1\"):\n",
    "        yeni.append(\"Kot\")\n",
    "    else:\n",
    "        yeni.append(kat)"
   ]
  },
  {
   "cell_type": "code",
   "execution_count": 23,
   "metadata": {},
   "outputs": [],
   "source": [
    "df[\"celly_floortype\"]=yeni"
   ]
  },
  {
   "cell_type": "code",
   "execution_count": 24,
   "metadata": {},
   "outputs": [
    {
     "name": "stdout",
     "output_type": "stream",
     "text": [
      "<class 'pandas.core.frame.DataFrame'>\n",
      "Int64Index: 1127 entries, 0 to 1130\n",
      "Data columns (total 10 columns):\n",
      " #   Column                Non-Null Count  Dtype  \n",
      "---  ------                --------------  -----  \n",
      " 0   m2                    1126 non-null   float64\n",
      " 1   celly_houseRoomCount  1127 non-null   object \n",
      " 2   description           1127 non-null   object \n",
      " 3   isitma                1127 non-null   object \n",
      " 4   celly_buildingAge     1127 non-null   int64  \n",
      " 5   celly_floortype       1127 non-null   object \n",
      " 6   location              1127 non-null   object \n",
      " 7   days                  1127 non-null   object \n",
      " 8   price                 1127 non-null   int64  \n",
      " 9   deprem_sonrası        1127 non-null   int64  \n",
      "dtypes: float64(1), int64(3), object(6)\n",
      "memory usage: 96.9+ KB\n"
     ]
    }
   ],
   "source": [
    "df.info()"
   ]
  },
  {
   "cell_type": "code",
   "execution_count": 25,
   "metadata": {},
   "outputs": [
    {
     "data": {
      "text/plain": [
       "array([ 95., 110.,   0.,  80., 170., 198.,  85., 100.,  55.,  54.,  94.,\n",
       "       188.,  37.,  60.,  45., 450., 120., 183., 330., 114.,  40.,  84.,\n",
       "        90., 140., 160.,  70., 104.,  35., 168.,  50., 175., 105., 190.,\n",
       "       125., 130.,  65., 118., 115., 145.,  61., 360., 300., 150., 180.,\n",
       "        10., 166.,  14., 194.,   5., 315.,  75., 500., 185., 135.,  30.,\n",
       "       165.,  97., 350.,  16.,  74., 460., 480., 136., 147., 400., 111.,\n",
       "        46., 196., 157., 144.,  56., 109., 195.,  96., 600.,  78., 176.,\n",
       "        33.,  44.,  88., 320., 370., 388., 316., 560.,  68., 310., 340.,\n",
       "        63.,  64.,   9., 139., 780., 335., 550.,  19.,  76.,   4.,  77.,\n",
       "         6., 380.,  89., 126.,  18.,  83.,  47.,  67., 137.,  87.,  69.,\n",
       "       117.,  73., 128., 177.,  86., 146., 155., 187.,  98.,  57.,  51.,\n",
       "        79., 167.,   8., 325.,   7., 319.,  nan,  81., 184.,  58.])"
      ]
     },
     "execution_count": 25,
     "metadata": {},
     "output_type": "execute_result"
    }
   ],
   "source": [
    "df.m2.unique() # missing value var."
   ]
  },
  {
   "cell_type": "code",
   "execution_count": 26,
   "metadata": {},
   "outputs": [
    {
     "name": "stdout",
     "output_type": "stream",
     "text": [
      "<class 'pandas.core.frame.DataFrame'>\n",
      "Int64Index: 1127 entries, 0 to 1130\n",
      "Data columns (total 10 columns):\n",
      " #   Column                Non-Null Count  Dtype  \n",
      "---  ------                --------------  -----  \n",
      " 0   m2                    1126 non-null   float64\n",
      " 1   celly_houseRoomCount  1127 non-null   object \n",
      " 2   description           1127 non-null   object \n",
      " 3   isitma                1127 non-null   object \n",
      " 4   celly_buildingAge     1127 non-null   int64  \n",
      " 5   celly_floortype       1127 non-null   object \n",
      " 6   location              1127 non-null   object \n",
      " 7   days                  1127 non-null   object \n",
      " 8   price                 1127 non-null   int64  \n",
      " 9   deprem_sonrası        1127 non-null   int64  \n",
      "dtypes: float64(1), int64(3), object(6)\n",
      "memory usage: 96.9+ KB\n"
     ]
    }
   ],
   "source": [
    "df.info()"
   ]
  },
  {
   "cell_type": "markdown",
   "metadata": {},
   "source": [
    "# Null Verilerle Başa Çıkmak"
   ]
  },
  {
   "cell_type": "code",
   "execution_count": 27,
   "metadata": {},
   "outputs": [],
   "source": [
    "df=df.replace(\"boş\",np.nan)"
   ]
  },
  {
   "cell_type": "code",
   "execution_count": 28,
   "metadata": {},
   "outputs": [],
   "source": [
    "df.m2=df.m2.replace(0,np.nan)"
   ]
  },
  {
   "cell_type": "code",
   "execution_count": 29,
   "metadata": {},
   "outputs": [
    {
     "name": "stdout",
     "output_type": "stream",
     "text": [
      "<class 'pandas.core.frame.DataFrame'>\n",
      "Int64Index: 1127 entries, 0 to 1130\n",
      "Data columns (total 10 columns):\n",
      " #   Column                Non-Null Count  Dtype  \n",
      "---  ------                --------------  -----  \n",
      " 0   m2                    1067 non-null   float64\n",
      " 1   celly_houseRoomCount  1127 non-null   object \n",
      " 2   description           1127 non-null   object \n",
      " 3   isitma                1127 non-null   object \n",
      " 4   celly_buildingAge     1127 non-null   int64  \n",
      " 5   celly_floortype       1007 non-null   object \n",
      " 6   location              1127 non-null   object \n",
      " 7   days                  1127 non-null   object \n",
      " 8   price                 1127 non-null   int64  \n",
      " 9   deprem_sonrası        1127 non-null   int64  \n",
      "dtypes: float64(1), int64(3), object(6)\n",
      "memory usage: 96.9+ KB\n"
     ]
    }
   ],
   "source": [
    "df.info()"
   ]
  },
  {
   "cell_type": "code",
   "execution_count": 30,
   "metadata": {},
   "outputs": [
    {
     "data": {
      "text/plain": [
       "m2                       60\n",
       "celly_houseRoomCount      0\n",
       "description               0\n",
       "isitma                    0\n",
       "celly_buildingAge         0\n",
       "celly_floortype         120\n",
       "location                  0\n",
       "days                      0\n",
       "price                     0\n",
       "deprem_sonrası            0\n",
       "dtype: int64"
      ]
     },
     "execution_count": 30,
     "metadata": {},
     "output_type": "execute_result"
    }
   ],
   "source": [
    "df.isnull().sum()"
   ]
  },
  {
   "cell_type": "code",
   "execution_count": 31,
   "metadata": {},
   "outputs": [
    {
     "data": {
      "text/html": [
       "<div>\n",
       "<style scoped>\n",
       "    .dataframe tbody tr th:only-of-type {\n",
       "        vertical-align: middle;\n",
       "    }\n",
       "\n",
       "    .dataframe tbody tr th {\n",
       "        vertical-align: top;\n",
       "    }\n",
       "\n",
       "    .dataframe thead th {\n",
       "        text-align: right;\n",
       "    }\n",
       "</style>\n",
       "<table border=\"1\" class=\"dataframe\">\n",
       "  <thead>\n",
       "    <tr style=\"text-align: right;\">\n",
       "      <th></th>\n",
       "      <th>m2</th>\n",
       "      <th>celly_houseRoomCount</th>\n",
       "      <th>description</th>\n",
       "      <th>isitma</th>\n",
       "      <th>celly_buildingAge</th>\n",
       "      <th>celly_floortype</th>\n",
       "      <th>location</th>\n",
       "      <th>days</th>\n",
       "      <th>price</th>\n",
       "      <th>deprem_sonrası</th>\n",
       "    </tr>\n",
       "  </thead>\n",
       "  <tbody>\n",
       "    <tr>\n",
       "      <th>2</th>\n",
       "      <td>NaN</td>\n",
       "      <td>4 + 1</td>\n",
       "      <td>tarabya sanatcılar sitesinde ferah teraslı 4+...</td>\n",
       "      <td>Kat Kaloriferi</td>\n",
       "      <td>20</td>\n",
       "      <td>Çatı Katı</td>\n",
       "      <td>Sarıyer,Tarabya Mahallesi</td>\n",
       "      <td>13 Temmuz 2020</td>\n",
       "      <td>5500</td>\n",
       "      <td>1</td>\n",
       "    </tr>\n",
       "    <tr>\n",
       "      <th>43</th>\n",
       "      <td>NaN</td>\n",
       "      <td>3 + 1</td>\n",
       "      <td>panorama'dan istinye park 1.faz'da mobilyalı ...</td>\n",
       "      <td>Kombi</td>\n",
       "      <td>11</td>\n",
       "      <td>3. Kat</td>\n",
       "      <td>Sarıyer,İstinye Mahallesi</td>\n",
       "      <td>13 Temmuz 2020</td>\n",
       "      <td>23500</td>\n",
       "      <td>1</td>\n",
       "    </tr>\n",
       "    <tr>\n",
       "      <th>50</th>\n",
       "      <td>NaN</td>\n",
       "      <td>4 + 1</td>\n",
       "      <td>tarabyada kiralık boğaz manzaralı çatı dublex</td>\n",
       "      <td>Kombi</td>\n",
       "      <td>0</td>\n",
       "      <td>NaN</td>\n",
       "      <td>Sarıyer,Ferahevler Mahallesi</td>\n",
       "      <td>13 Temmuz 2020</td>\n",
       "      <td>48000</td>\n",
       "      <td>1</td>\n",
       "    </tr>\n",
       "    <tr>\n",
       "      <th>79</th>\n",
       "      <td>NaN</td>\n",
       "      <td>3 + 1</td>\n",
       "      <td>sarıyer tarabya da ulaşıma yakın 3+1 temiz de...</td>\n",
       "      <td>Kombi</td>\n",
       "      <td>21</td>\n",
       "      <td>5. Kat</td>\n",
       "      <td>Sarıyer,Tarabya Mahallesi</td>\n",
       "      <td>9 Temmuz 2020</td>\n",
       "      <td>4000</td>\n",
       "      <td>0</td>\n",
       "    </tr>\n",
       "    <tr>\n",
       "      <th>83</th>\n",
       "      <td>NaN</td>\n",
       "      <td>3 + 1</td>\n",
       "      <td>sarıyerin en güzel beldelerinde bahçeli 169 m...</td>\n",
       "      <td>Kombi</td>\n",
       "      <td>15</td>\n",
       "      <td>Bahçe Katı</td>\n",
       "      <td>Sarıyer,Kumköy Mahallesi</td>\n",
       "      <td>9 Temmuz 2020</td>\n",
       "      <td>5500</td>\n",
       "      <td>1</td>\n",
       "    </tr>\n",
       "    <tr>\n",
       "      <th>90</th>\n",
       "      <td>NaN</td>\n",
       "      <td>4 + 1</td>\n",
       "      <td>sariyer tarabyada 4+1 220 m2 bakimli temiz mu...</td>\n",
       "      <td>Kombi</td>\n",
       "      <td>16</td>\n",
       "      <td>2. Kat</td>\n",
       "      <td>Sarıyer,Tarabya Mahallesi</td>\n",
       "      <td>13 Temmuz 2020</td>\n",
       "      <td>20000</td>\n",
       "      <td>1</td>\n",
       "    </tr>\n",
       "    <tr>\n",
       "      <th>93</th>\n",
       "      <td>NaN</td>\n",
       "      <td>4 + 1</td>\n",
       "      <td>tarabya'da bahçeli ve boğaz manzaralı 4+1 kir...</td>\n",
       "      <td>Kombi</td>\n",
       "      <td>30</td>\n",
       "      <td>1. Kat</td>\n",
       "      <td>Sarıyer,Kireçburnu Mahallesi</td>\n",
       "      <td>7 Temmuz 2020</td>\n",
       "      <td>12000</td>\n",
       "      <td>0</td>\n",
       "    </tr>\n",
       "    <tr>\n",
       "      <th>99</th>\n",
       "      <td>NaN</td>\n",
       "      <td>5 + 2</td>\n",
       "      <td>geniş bahçe kullanımlı havuz manzaralı yeni b...</td>\n",
       "      <td>Kombi</td>\n",
       "      <td>3</td>\n",
       "      <td>Bahçe Katı</td>\n",
       "      <td>Sarıyer,Tarabya Mahallesi</td>\n",
       "      <td>9 Temmuz 2020</td>\n",
       "      <td>10000</td>\n",
       "      <td>1</td>\n",
       "    </tr>\n",
       "    <tr>\n",
       "      <th>101</th>\n",
       "      <td>NaN</td>\n",
       "      <td>4 + 1</td>\n",
       "      <td>tarabya sanatcılar sitesin de ferah teraslı 4...</td>\n",
       "      <td>Kombi</td>\n",
       "      <td>28</td>\n",
       "      <td>5. Kat</td>\n",
       "      <td>Sarıyer,Tarabya Mahallesi</td>\n",
       "      <td>13 Temmuz 2020</td>\n",
       "      <td>5500</td>\n",
       "      <td>0</td>\n",
       "    </tr>\n",
       "    <tr>\n",
       "      <th>103</th>\n",
       "      <td>NaN</td>\n",
       "      <td>3 + 1</td>\n",
       "      <td>panorama'dan istinye park'ta full mobilyalı b...</td>\n",
       "      <td>Kombi</td>\n",
       "      <td>12</td>\n",
       "      <td>1. Kat</td>\n",
       "      <td>Sarıyer,İstinye Mahallesi</td>\n",
       "      <td>13 Temmuz 2020</td>\n",
       "      <td>24000</td>\n",
       "      <td>1</td>\n",
       "    </tr>\n",
       "    <tr>\n",
       "      <th>104</th>\n",
       "      <td>NaN</td>\n",
       "      <td>4 + 1</td>\n",
       "      <td>4*4 madende deniz manzaralı, teraslı havuzlu ...</td>\n",
       "      <td>Kombi</td>\n",
       "      <td>2</td>\n",
       "      <td>3. Kat</td>\n",
       "      <td>Sarıyer,Maden Mahallesi</td>\n",
       "      <td>12 Temmuz 2020</td>\n",
       "      <td>7500</td>\n",
       "      <td>1</td>\n",
       "    </tr>\n",
       "    <tr>\n",
       "      <th>113</th>\n",
       "      <td>NaN</td>\n",
       "      <td>4 + 1</td>\n",
       "      <td>rumelihisarı'nda manzaralı bahçe kullanimlı y...</td>\n",
       "      <td>Kombi</td>\n",
       "      <td>30</td>\n",
       "      <td>Bahçe Katı</td>\n",
       "      <td>Sarıyer,Rumeli Hisarı Mahallesi</td>\n",
       "      <td>7 Temmuz 2020</td>\n",
       "      <td>13000</td>\n",
       "      <td>0</td>\n",
       "    </tr>\n",
       "    <tr>\n",
       "      <th>204</th>\n",
       "      <td>NaN</td>\n",
       "      <td>3 + 1</td>\n",
       "      <td>sarıyer tarabya bahçeli havuzlu site'de duble...</td>\n",
       "      <td>Kombi</td>\n",
       "      <td>25</td>\n",
       "      <td>2. Kat</td>\n",
       "      <td>Sarıyer,Ferahevler Mahallesi</td>\n",
       "      <td>19 Haziran 2020</td>\n",
       "      <td>5700</td>\n",
       "      <td>0</td>\n",
       "    </tr>\n",
       "    <tr>\n",
       "      <th>211</th>\n",
       "      <td>NaN</td>\n",
       "      <td>4 + 1</td>\n",
       "      <td>sarıyer zekeriyaköy de site içinde kiralık 4+...</td>\n",
       "      <td>Kombi</td>\n",
       "      <td>10</td>\n",
       "      <td>Bahçe Katı</td>\n",
       "      <td>Sarıyer,Uskumruköy Mahallesi</td>\n",
       "      <td>6 Temmuz 2020</td>\n",
       "      <td>7500</td>\n",
       "      <td>1</td>\n",
       "    </tr>\n",
       "    <tr>\n",
       "      <th>213</th>\n",
       "      <td>NaN</td>\n",
       "      <td>4 + 1</td>\n",
       "      <td>rumeli hisarında muhteşem boğaz ve doğa manza...</td>\n",
       "      <td>Kombi</td>\n",
       "      <td>25</td>\n",
       "      <td>3. Kat</td>\n",
       "      <td>Sarıyer,Rumeli Hisarı Mahallesi</td>\n",
       "      <td>13 Temmuz 2020</td>\n",
       "      <td>14000</td>\n",
       "      <td>0</td>\n",
       "    </tr>\n",
       "    <tr>\n",
       "      <th>226</th>\n",
       "      <td>NaN</td>\n",
       "      <td>3 + 1</td>\n",
       "      <td>yeniköy de muhteşem manzaralı,teraslı dubleks...</td>\n",
       "      <td>Kombi</td>\n",
       "      <td>15</td>\n",
       "      <td>NaN</td>\n",
       "      <td>Sarıyer,Yeniköy Mahallesi</td>\n",
       "      <td>11 Temmuz 2020</td>\n",
       "      <td>20000</td>\n",
       "      <td>1</td>\n",
       "    </tr>\n",
       "    <tr>\n",
       "      <th>232</th>\n",
       "      <td>NaN</td>\n",
       "      <td>3 + 2</td>\n",
       "      <td>tarabya 2 bloklu butik site deniz ve doğa man...</td>\n",
       "      <td>Kombi</td>\n",
       "      <td>20</td>\n",
       "      <td>3. Kat</td>\n",
       "      <td>Sarıyer,Tarabya Mahallesi</td>\n",
       "      <td>12 Temmuz 2020</td>\n",
       "      <td>5500</td>\n",
       "      <td>1</td>\n",
       "    </tr>\n",
       "    <tr>\n",
       "      <th>277</th>\n",
       "      <td>NaN</td>\n",
       "      <td>3 + 1</td>\n",
       "      <td>enjoyable flat ın tarabya wıth bosphorus and ...</td>\n",
       "      <td>Kombi</td>\n",
       "      <td>20</td>\n",
       "      <td>Bahçe Katı</td>\n",
       "      <td>Sarıyer,Tarabya Mahallesi</td>\n",
       "      <td>13 Temmuz 2020</td>\n",
       "      <td>8000</td>\n",
       "      <td>1</td>\n",
       "    </tr>\n",
       "    <tr>\n",
       "      <th>280</th>\n",
       "      <td>NaN</td>\n",
       "      <td>4 + 1</td>\n",
       "      <td>rumelihisar da sahile yakın muhteşem boğaz ba...</td>\n",
       "      <td>Kombi</td>\n",
       "      <td>28</td>\n",
       "      <td>Bahçe Katı</td>\n",
       "      <td>Sarıyer,Rumeli Hisarı Mahallesi</td>\n",
       "      <td>11 Temmuz 2020</td>\n",
       "      <td>13000</td>\n",
       "      <td>0</td>\n",
       "    </tr>\n",
       "    <tr>\n",
       "      <th>288</th>\n",
       "      <td>NaN</td>\n",
       "      <td>3 + 1</td>\n",
       "      <td>tarabyaüstü'nde boğaz manzaralı bahçeli 3 +1 ...</td>\n",
       "      <td>Kombi</td>\n",
       "      <td>20</td>\n",
       "      <td>Bahçe Katı</td>\n",
       "      <td>Sarıyer,Tarabya Mahallesi</td>\n",
       "      <td>13 Temmuz 2020</td>\n",
       "      <td>8000</td>\n",
       "      <td>1</td>\n",
       "    </tr>\n",
       "    <tr>\n",
       "      <th>347</th>\n",
       "      <td>NaN</td>\n",
       "      <td>3 + 1</td>\n",
       "      <td>tarabya üstü deniz doğa manzaralı teraslı 3+1</td>\n",
       "      <td>Kombi</td>\n",
       "      <td>25</td>\n",
       "      <td>5. Kat</td>\n",
       "      <td>Sarıyer,Tarabya Mahallesi</td>\n",
       "      <td>12 Temmuz 2020</td>\n",
       "      <td>3500</td>\n",
       "      <td>0</td>\n",
       "    </tr>\n",
       "    <tr>\n",
       "      <th>351</th>\n",
       "      <td>NaN</td>\n",
       "      <td>4 + 1</td>\n",
       "      <td>tarabya' da elit sitede aydınlık ferah daire</td>\n",
       "      <td>Kombi</td>\n",
       "      <td>20</td>\n",
       "      <td>2. Kat</td>\n",
       "      <td>Sarıyer,Tarabya Mahallesi</td>\n",
       "      <td>11 Temmuz 2020</td>\n",
       "      <td>16000</td>\n",
       "      <td>1</td>\n",
       "    </tr>\n",
       "    <tr>\n",
       "      <th>363</th>\n",
       "      <td>NaN</td>\n",
       "      <td>4 + 1</td>\n",
       "      <td>ali obuz'dan aksoy tarabya'da havuz manzaralı</td>\n",
       "      <td>Kombi</td>\n",
       "      <td>15</td>\n",
       "      <td>4. Kat</td>\n",
       "      <td>Sarıyer,Ferahevler Mahallesi</td>\n",
       "      <td>2 Temmuz 2020</td>\n",
       "      <td>14900</td>\n",
       "      <td>1</td>\n",
       "    </tr>\n",
       "    <tr>\n",
       "      <th>378</th>\n",
       "      <td>NaN</td>\n",
       "      <td>3 + 1</td>\n",
       "      <td>istinyepark residence 3+1 fırsat kiralık dair...</td>\n",
       "      <td>Kombi</td>\n",
       "      <td>7</td>\n",
       "      <td>4. Kat</td>\n",
       "      <td>Sarıyer,İstinye Mahallesi</td>\n",
       "      <td>13 Temmuz 2020</td>\n",
       "      <td>14000</td>\n",
       "      <td>1</td>\n",
       "    </tr>\n",
       "    <tr>\n",
       "      <th>403</th>\n",
       "      <td>NaN</td>\n",
       "      <td>4 + 1</td>\n",
       "      <td>yeniköy kiralık 4+1 çatı dubleks</td>\n",
       "      <td>Kombi</td>\n",
       "      <td>30</td>\n",
       "      <td>Çatı Katı</td>\n",
       "      <td>Sarıyer,Yeniköy Mahallesi</td>\n",
       "      <td>11 Temmuz 2020</td>\n",
       "      <td>8500</td>\n",
       "      <td>0</td>\n",
       "    </tr>\n",
       "    <tr>\n",
       "      <th>409</th>\n",
       "      <td>NaN</td>\n",
       "      <td>4 + 1</td>\n",
       "      <td>yeniköy ferahevlerde sıfır proje 4+1çatı dublex</td>\n",
       "      <td>Kombi</td>\n",
       "      <td>0</td>\n",
       "      <td>4. Kat</td>\n",
       "      <td>Sarıyer,Yeniköy Mahallesi</td>\n",
       "      <td>30 Haziran 2020</td>\n",
       "      <td>9000</td>\n",
       "      <td>1</td>\n",
       "    </tr>\n",
       "    <tr>\n",
       "      <th>415</th>\n",
       "      <td>NaN</td>\n",
       "      <td>3 + 1</td>\n",
       "      <td>abn'den emirgan 'da yeni sitede kiralık alter...</td>\n",
       "      <td>Kombi</td>\n",
       "      <td>0</td>\n",
       "      <td>Çatı Katı</td>\n",
       "      <td>Sarıyer,Reşitpaşa Mahallesi</td>\n",
       "      <td>28 Haziran 2020</td>\n",
       "      <td>9500</td>\n",
       "      <td>1</td>\n",
       "    </tr>\n",
       "    <tr>\n",
       "      <th>421</th>\n",
       "      <td>NaN</td>\n",
       "      <td>3 + 1</td>\n",
       "      <td>istinyepark evlerinde kiralık temiz daire zor...</td>\n",
       "      <td>Kombi</td>\n",
       "      <td>11</td>\n",
       "      <td>2. Kat</td>\n",
       "      <td>Sarıyer,Pınar Mahallesi</td>\n",
       "      <td>13 Temmuz 2020</td>\n",
       "      <td>16000</td>\n",
       "      <td>1</td>\n",
       "    </tr>\n",
       "    <tr>\n",
       "      <th>500</th>\n",
       "      <td>NaN</td>\n",
       "      <td>4 + 1</td>\n",
       "      <td>tarabya'da sahile yakın bahçe içinde temiz du...</td>\n",
       "      <td>Kombi</td>\n",
       "      <td>15</td>\n",
       "      <td>1. Kat</td>\n",
       "      <td>Sarıyer,Tarabya Mahallesi</td>\n",
       "      <td>13 Temmuz 2020</td>\n",
       "      <td>10000</td>\n",
       "      <td>1</td>\n",
       "    </tr>\n",
       "    <tr>\n",
       "      <th>508</th>\n",
       "      <td>NaN</td>\n",
       "      <td>3 + 1</td>\n",
       "      <td>kilyosun girişinde kısmi eşyalı kiralık çatı ...</td>\n",
       "      <td>Kombi</td>\n",
       "      <td>5</td>\n",
       "      <td>Çatı Katı</td>\n",
       "      <td>Sarıyer,Kumköy Mahallesi</td>\n",
       "      <td>10 Temmuz 2020</td>\n",
       "      <td>3500</td>\n",
       "      <td>1</td>\n",
       "    </tr>\n",
       "    <tr>\n",
       "      <th>569</th>\n",
       "      <td>NaN</td>\n",
       "      <td>3 + 1</td>\n",
       "      <td>yeniköy de muhteşem boğaz manzaralı teraslı d...</td>\n",
       "      <td>Kombi</td>\n",
       "      <td>16</td>\n",
       "      <td>Çatı Katı</td>\n",
       "      <td>Sarıyer,Yeniköy Mahallesi</td>\n",
       "      <td>13 Temmuz 2020</td>\n",
       "      <td>25000</td>\n",
       "      <td>1</td>\n",
       "    </tr>\n",
       "    <tr>\n",
       "      <th>578</th>\n",
       "      <td>NaN</td>\n",
       "      <td>4 + 1</td>\n",
       "      <td>yeniköy sırtta büyük teraslı 4+1 şık çatı dub...</td>\n",
       "      <td>Kombi</td>\n",
       "      <td>25</td>\n",
       "      <td>3. Kat</td>\n",
       "      <td>Sarıyer,Yeniköy Mahallesi</td>\n",
       "      <td>15 Haziran 2020</td>\n",
       "      <td>8500</td>\n",
       "      <td>0</td>\n",
       "    </tr>\n",
       "    <tr>\n",
       "      <th>611</th>\n",
       "      <td>NaN</td>\n",
       "      <td>5 + 1</td>\n",
       "      <td>güven emlaktan emirganda dubleks ev yada ofis...</td>\n",
       "      <td>Kombi</td>\n",
       "      <td>40</td>\n",
       "      <td>3. Kat</td>\n",
       "      <td>Sarıyer,Emirgan Mahallesi</td>\n",
       "      <td>13 Temmuz 2020</td>\n",
       "      <td>9500</td>\n",
       "      <td>0</td>\n",
       "    </tr>\n",
       "    <tr>\n",
       "      <th>647</th>\n",
       "      <td>NaN</td>\n",
       "      <td>4 + 1</td>\n",
       "      <td>rumelihisarında muhteşem teras katı</td>\n",
       "      <td>Kombi</td>\n",
       "      <td>35</td>\n",
       "      <td>NaN</td>\n",
       "      <td>Sarıyer,Rumeli Hisarı Mahallesi</td>\n",
       "      <td>29 Haziran 2020</td>\n",
       "      <td>15000</td>\n",
       "      <td>0</td>\n",
       "    </tr>\n",
       "    <tr>\n",
       "      <th>671</th>\n",
       "      <td>NaN</td>\n",
       "      <td>3 + 1</td>\n",
       "      <td>maslak 1453 kiralık loft dublex daire</td>\n",
       "      <td>Merkezi</td>\n",
       "      <td>1</td>\n",
       "      <td>12. Kat</td>\n",
       "      <td>Sarıyer,Maslak Mahallesi</td>\n",
       "      <td>13 Temmuz 2020</td>\n",
       "      <td>16000</td>\n",
       "      <td>1</td>\n",
       "    </tr>\n",
       "    <tr>\n",
       "      <th>673</th>\n",
       "      <td>NaN</td>\n",
       "      <td>4 + 1</td>\n",
       "      <td>tarabya polat koru sitesinde bakımlı kiralık ...</td>\n",
       "      <td>Merkezi</td>\n",
       "      <td>25</td>\n",
       "      <td>3. Kat</td>\n",
       "      <td>Sarıyer,Tarabya Mahallesi</td>\n",
       "      <td>13 Temmuz 2020</td>\n",
       "      <td>8900</td>\n",
       "      <td>0</td>\n",
       "    </tr>\n",
       "    <tr>\n",
       "      <th>681</th>\n",
       "      <td>NaN</td>\n",
       "      <td>3 + 1</td>\n",
       "      <td>yeniköy'de full boğaz manzaralı balkonlu kira...</td>\n",
       "      <td>Merkezi</td>\n",
       "      <td>30</td>\n",
       "      <td>2. Kat</td>\n",
       "      <td>Sarıyer,Yeniköy Mahallesi</td>\n",
       "      <td>10 Temmuz 2020</td>\n",
       "      <td>35000</td>\n",
       "      <td>0</td>\n",
       "    </tr>\n",
       "    <tr>\n",
       "      <th>686</th>\n",
       "      <td>NaN</td>\n",
       "      <td>3 + 1</td>\n",
       "      <td>tarabya'da kısmi deniz manzaralı site içinde ...</td>\n",
       "      <td>Merkezi</td>\n",
       "      <td>22</td>\n",
       "      <td>Giriş Katı</td>\n",
       "      <td>Sarıyer,Ferahevler Mahallesi</td>\n",
       "      <td>13 Temmuz 2020</td>\n",
       "      <td>7500</td>\n",
       "      <td>0</td>\n",
       "    </tr>\n",
       "    <tr>\n",
       "      <th>690</th>\n",
       "      <td>NaN</td>\n",
       "      <td>3 + 1</td>\n",
       "      <td>maslak 1453 kiralık daire 3+1</td>\n",
       "      <td>Merkezi</td>\n",
       "      <td>1</td>\n",
       "      <td>8. Kat</td>\n",
       "      <td>Sarıyer,Maslak Mahallesi</td>\n",
       "      <td>7 Temmuz 2020</td>\n",
       "      <td>7000</td>\n",
       "      <td>1</td>\n",
       "    </tr>\n",
       "    <tr>\n",
       "      <th>699</th>\n",
       "      <td>NaN</td>\n",
       "      <td>3 + 1</td>\n",
       "      <td>maslak 1453 kiralık daire 3+1 200m2</td>\n",
       "      <td>Merkezi</td>\n",
       "      <td>1</td>\n",
       "      <td>9. Kat</td>\n",
       "      <td>Sarıyer,Maslak Mahallesi</td>\n",
       "      <td>10 Temmuz 2020</td>\n",
       "      <td>7000</td>\n",
       "      <td>1</td>\n",
       "    </tr>\n",
       "    <tr>\n",
       "      <th>701</th>\n",
       "      <td>NaN</td>\n",
       "      <td>4 + 1</td>\n",
       "      <td>rumelihisarı'nda manzaralı bahçe kullanimlı y...</td>\n",
       "      <td>Merkezi</td>\n",
       "      <td>25</td>\n",
       "      <td>Bahçe Katı</td>\n",
       "      <td>Sarıyer,Rumeli Hisarı Mahallesi</td>\n",
       "      <td>9 Temmuz 2020</td>\n",
       "      <td>13000</td>\n",
       "      <td>0</td>\n",
       "    </tr>\n",
       "    <tr>\n",
       "      <th>705</th>\n",
       "      <td>NaN</td>\n",
       "      <td>4 + 1</td>\n",
       "      <td>rumelihisarı'nda muhteşem manzaralı kiralık d...</td>\n",
       "      <td>Merkezi</td>\n",
       "      <td>30</td>\n",
       "      <td>3. Kat</td>\n",
       "      <td>Sarıyer,Rumeli Hisarı Mahallesi</td>\n",
       "      <td>7 Temmuz 2020</td>\n",
       "      <td>17000</td>\n",
       "      <td>0</td>\n",
       "    </tr>\n",
       "    <tr>\n",
       "      <th>707</th>\n",
       "      <td>NaN</td>\n",
       "      <td>3 + 1</td>\n",
       "      <td>maslak 1453 kiralık daire 3+1 eşyalı 200m2</td>\n",
       "      <td>Merkezi</td>\n",
       "      <td>1</td>\n",
       "      <td>9. Kat</td>\n",
       "      <td>Sarıyer,Maslak Mahallesi</td>\n",
       "      <td>10 Temmuz 2020</td>\n",
       "      <td>10000</td>\n",
       "      <td>1</td>\n",
       "    </tr>\n",
       "    <tr>\n",
       "      <th>715</th>\n",
       "      <td>NaN</td>\n",
       "      <td>3 + 1</td>\n",
       "      <td>maslak 1453 kiralık 3+1 fırsat hemen oturun g...</td>\n",
       "      <td>Merkezi</td>\n",
       "      <td>2</td>\n",
       "      <td>14. Kat</td>\n",
       "      <td>Sarıyer,Maslak Mahallesi</td>\n",
       "      <td>18 Haziran 2020</td>\n",
       "      <td>7000</td>\n",
       "      <td>1</td>\n",
       "    </tr>\n",
       "    <tr>\n",
       "      <th>721</th>\n",
       "      <td>NaN</td>\n",
       "      <td>4 + 1</td>\n",
       "      <td>tarabya çamlık sitesinde havuz cepheli dubleks</td>\n",
       "      <td>Merkezi</td>\n",
       "      <td>30</td>\n",
       "      <td>Giriş Katı</td>\n",
       "      <td>Sarıyer,Tarabya Mahallesi</td>\n",
       "      <td>1 Temmuz 2020</td>\n",
       "      <td>8500</td>\n",
       "      <td>0</td>\n",
       "    </tr>\n",
       "    <tr>\n",
       "      <th>730</th>\n",
       "      <td>NaN</td>\n",
       "      <td>3 + 1</td>\n",
       "      <td>emirganda sahile yürüme mesafesinde 3+1 yeni ...</td>\n",
       "      <td>Merkezi</td>\n",
       "      <td>0</td>\n",
       "      <td>2. Kat</td>\n",
       "      <td>Sarıyer,Emirgan Mahallesi</td>\n",
       "      <td>7 Temmuz 2020</td>\n",
       "      <td>10000</td>\n",
       "      <td>1</td>\n",
       "    </tr>\n",
       "    <tr>\n",
       "      <th>737</th>\n",
       "      <td>NaN</td>\n",
       "      <td>1 + 1</td>\n",
       "      <td>metro'ya 4dk., full eşyalı, faturalar dahil</td>\n",
       "      <td>Merkezi</td>\n",
       "      <td>7</td>\n",
       "      <td>Ara Kat</td>\n",
       "      <td>Sarıyer,Maslak Mahallesi</td>\n",
       "      <td>8 Temmuz 2020</td>\n",
       "      <td>1000</td>\n",
       "      <td>1</td>\n",
       "    </tr>\n",
       "    <tr>\n",
       "      <th>750</th>\n",
       "      <td>NaN</td>\n",
       "      <td>3 + 1</td>\n",
       "      <td>maslak 1453 kiralık daire 3+1</td>\n",
       "      <td>Merkezi</td>\n",
       "      <td>1</td>\n",
       "      <td>9. Kat</td>\n",
       "      <td>Sarıyer,Maslak Mahallesi</td>\n",
       "      <td>7 Temmuz 2020</td>\n",
       "      <td>7000</td>\n",
       "      <td>1</td>\n",
       "    </tr>\n",
       "    <tr>\n",
       "      <th>757</th>\n",
       "      <td>NaN</td>\n",
       "      <td>3 + 1</td>\n",
       "      <td>boğazın en güzel manzaralı dairesi kiralık</td>\n",
       "      <td>Merkezi</td>\n",
       "      <td>20</td>\n",
       "      <td>2. Kat</td>\n",
       "      <td>Sarıyer,Rumeli Hisarı Mahallesi</td>\n",
       "      <td>30 Haziran 2020</td>\n",
       "      <td>15000</td>\n",
       "      <td>1</td>\n",
       "    </tr>\n",
       "    <tr>\n",
       "      <th>769</th>\n",
       "      <td>NaN</td>\n",
       "      <td>4 + 1</td>\n",
       "      <td>rumelihisarı'nda muhteşem manzaralı kiralık 4+1</td>\n",
       "      <td>Merkezi</td>\n",
       "      <td>25</td>\n",
       "      <td>2. Kat</td>\n",
       "      <td>Sarıyer,Rumeli Hisarı Mahallesi</td>\n",
       "      <td>9 Temmuz 2020</td>\n",
       "      <td>17000</td>\n",
       "      <td>0</td>\n",
       "    </tr>\n",
       "    <tr>\n",
       "      <th>784</th>\n",
       "      <td>NaN</td>\n",
       "      <td>4 + 1</td>\n",
       "      <td>tarabya nezih sitede 4+1 daire</td>\n",
       "      <td>Merkezi</td>\n",
       "      <td>20</td>\n",
       "      <td>NaN</td>\n",
       "      <td>Sarıyer,Ferahevler Mahallesi</td>\n",
       "      <td>19 Haziran 2020</td>\n",
       "      <td>6900</td>\n",
       "      <td>1</td>\n",
       "    </tr>\n",
       "    <tr>\n",
       "      <th>819</th>\n",
       "      <td>NaN</td>\n",
       "      <td>2 + 1</td>\n",
       "      <td>list istinye'de fırsat köşe bahçe tek yetkili...</td>\n",
       "      <td>Merkezi (Pay Ölçer)</td>\n",
       "      <td>2</td>\n",
       "      <td>Bahçe Katı</td>\n",
       "      <td>Sarıyer,İstinye Mahallesi</td>\n",
       "      <td>13 Temmuz 2020</td>\n",
       "      <td>13000</td>\n",
       "      <td>1</td>\n",
       "    </tr>\n",
       "    <tr>\n",
       "      <th>833</th>\n",
       "      <td>NaN</td>\n",
       "      <td>3 + 1</td>\n",
       "      <td>tarabya incisi nurol sitesinde mükemmel özel ...</td>\n",
       "      <td>Merkezi (Pay Ölçer)</td>\n",
       "      <td>26</td>\n",
       "      <td>3. Kat</td>\n",
       "      <td>Sarıyer,Tarabya Mahallesi</td>\n",
       "      <td>13 Temmuz 2020</td>\n",
       "      <td>12000</td>\n",
       "      <td>0</td>\n",
       "    </tr>\n",
       "    <tr>\n",
       "      <th>835</th>\n",
       "      <td>NaN</td>\n",
       "      <td>3 + 1</td>\n",
       "      <td>turyap'tan istinye park evlerinde 3+1kiralık ...</td>\n",
       "      <td>Merkezi (Pay Ölçer)</td>\n",
       "      <td>6</td>\n",
       "      <td>4. Kat</td>\n",
       "      <td>Sarıyer,Pınar Mahallesi</td>\n",
       "      <td>7 Temmuz 2020</td>\n",
       "      <td>26000</td>\n",
       "      <td>1</td>\n",
       "    </tr>\n",
       "    <tr>\n",
       "      <th>838</th>\n",
       "      <td>NaN</td>\n",
       "      <td>4 + 1</td>\n",
       "      <td>darüşşafaka sitede merkezi konumda bakımlı 4+...</td>\n",
       "      <td>Merkezi (Pay Ölçer)</td>\n",
       "      <td>22</td>\n",
       "      <td>Yüksek Giriş</td>\n",
       "      <td>Sarıyer,Darüşşafaka Mahallesi</td>\n",
       "      <td>10 Temmuz 2020</td>\n",
       "      <td>3700</td>\n",
       "      <td>0</td>\n",
       "    </tr>\n",
       "    <tr>\n",
       "      <th>944</th>\n",
       "      <td>NaN</td>\n",
       "      <td>3 + 1</td>\n",
       "      <td>sarıyer maslak 1453 de 3+1 kıralık boş</td>\n",
       "      <td>Merkezi (Pay Ölçer)</td>\n",
       "      <td>3</td>\n",
       "      <td>7. Kat</td>\n",
       "      <td>Sarıyer,Maslak Mahallesi</td>\n",
       "      <td>13 Temmuz 2020</td>\n",
       "      <td>7000</td>\n",
       "      <td>1</td>\n",
       "    </tr>\n",
       "    <tr>\n",
       "      <th>963</th>\n",
       "      <td>NaN</td>\n",
       "      <td>3 + 1</td>\n",
       "      <td>maslak ağaoğlu 1453'te kaliteli kiralık eşyal...</td>\n",
       "      <td>Merkezi (Pay Ölçer)</td>\n",
       "      <td>4</td>\n",
       "      <td>5. Kat</td>\n",
       "      <td>Sarıyer,Maslak Mahallesi</td>\n",
       "      <td>6 Temmuz 2020</td>\n",
       "      <td>9500</td>\n",
       "      <td>1</td>\n",
       "    </tr>\n",
       "    <tr>\n",
       "      <th>1062</th>\n",
       "      <td>NaN</td>\n",
       "      <td>3 + 1</td>\n",
       "      <td>tarabya merkezde aktiviteli site onu açık mob...</td>\n",
       "      <td>Merkezi (Pay Ölçer)</td>\n",
       "      <td>28</td>\n",
       "      <td>2. Kat</td>\n",
       "      <td>Sarıyer,Tarabya Mahallesi</td>\n",
       "      <td>6 Temmuz 2020</td>\n",
       "      <td>17250</td>\n",
       "      <td>0</td>\n",
       "    </tr>\n",
       "    <tr>\n",
       "      <th>1077</th>\n",
       "      <td>NaN</td>\n",
       "      <td>4 + 1</td>\n",
       "      <td>vadistanbul teras evleri'nde çok temiz kiralı...</td>\n",
       "      <td>Merkezi (Pay Ölçer)</td>\n",
       "      <td>5</td>\n",
       "      <td>21 ve üzeri</td>\n",
       "      <td>Sarıyer,Ayazağa Mahallesi</td>\n",
       "      <td>13 Temmuz 2020</td>\n",
       "      <td>14000</td>\n",
       "      <td>1</td>\n",
       "    </tr>\n",
       "    <tr>\n",
       "      <th>1096</th>\n",
       "      <td>NaN</td>\n",
       "      <td>3 + 1</td>\n",
       "      <td>maslak 1453 ağaoğlu kiralık eşyalı 3+1 daire ...</td>\n",
       "      <td>Merkezi (Pay Ölçer)</td>\n",
       "      <td>4</td>\n",
       "      <td>5. Kat</td>\n",
       "      <td>Sarıyer,Maslak Mahallesi</td>\n",
       "      <td>29 Haziran 2020</td>\n",
       "      <td>9000</td>\n",
       "      <td>1</td>\n",
       "    </tr>\n",
       "  </tbody>\n",
       "</table>\n",
       "</div>"
      ],
      "text/plain": [
       "      m2 celly_houseRoomCount  \\\n",
       "2    NaN                4 + 1   \n",
       "43   NaN                3 + 1   \n",
       "50   NaN                4 + 1   \n",
       "79   NaN                3 + 1   \n",
       "83   NaN                3 + 1   \n",
       "90   NaN                4 + 1   \n",
       "93   NaN                4 + 1   \n",
       "99   NaN                5 + 2   \n",
       "101  NaN                4 + 1   \n",
       "103  NaN                3 + 1   \n",
       "104  NaN                4 + 1   \n",
       "113  NaN                4 + 1   \n",
       "204  NaN                3 + 1   \n",
       "211  NaN                4 + 1   \n",
       "213  NaN                4 + 1   \n",
       "226  NaN                3 + 1   \n",
       "232  NaN                3 + 2   \n",
       "277  NaN                3 + 1   \n",
       "280  NaN                4 + 1   \n",
       "288  NaN                3 + 1   \n",
       "347  NaN                3 + 1   \n",
       "351  NaN                4 + 1   \n",
       "363  NaN                4 + 1   \n",
       "378  NaN                3 + 1   \n",
       "403  NaN                4 + 1   \n",
       "409  NaN                4 + 1   \n",
       "415  NaN                3 + 1   \n",
       "421  NaN                3 + 1   \n",
       "500  NaN                4 + 1   \n",
       "508  NaN                3 + 1   \n",
       "569  NaN                3 + 1   \n",
       "578  NaN                4 + 1   \n",
       "611  NaN                5 + 1   \n",
       "647  NaN                4 + 1   \n",
       "671  NaN                3 + 1   \n",
       "673  NaN                4 + 1   \n",
       "681  NaN                3 + 1   \n",
       "686  NaN                3 + 1   \n",
       "690  NaN                3 + 1   \n",
       "699  NaN                3 + 1   \n",
       "701  NaN                4 + 1   \n",
       "705  NaN                4 + 1   \n",
       "707  NaN                3 + 1   \n",
       "715  NaN                3 + 1   \n",
       "721  NaN                4 + 1   \n",
       "730  NaN                3 + 1   \n",
       "737  NaN                1 + 1   \n",
       "750  NaN                3 + 1   \n",
       "757  NaN                3 + 1   \n",
       "769  NaN                4 + 1   \n",
       "784  NaN                4 + 1   \n",
       "819  NaN                2 + 1   \n",
       "833  NaN                3 + 1   \n",
       "835  NaN                3 + 1   \n",
       "838  NaN                4 + 1   \n",
       "944  NaN                3 + 1   \n",
       "963  NaN                3 + 1   \n",
       "1062 NaN                3 + 1   \n",
       "1077 NaN                4 + 1   \n",
       "1096 NaN                3 + 1   \n",
       "\n",
       "                                            description               isitma  \\\n",
       "2      tarabya sanatcılar sitesinde ferah teraslı 4+...       Kat Kaloriferi   \n",
       "43     panorama'dan istinye park 1.faz'da mobilyalı ...                Kombi   \n",
       "50       tarabyada kiralık boğaz manzaralı çatı dublex                 Kombi   \n",
       "79     sarıyer tarabya da ulaşıma yakın 3+1 temiz de...                Kombi   \n",
       "83     sarıyerin en güzel beldelerinde bahçeli 169 m...                Kombi   \n",
       "90     sariyer tarabyada 4+1 220 m2 bakimli temiz mu...                Kombi   \n",
       "93     tarabya'da bahçeli ve boğaz manzaralı 4+1 kir...                Kombi   \n",
       "99     geniş bahçe kullanımlı havuz manzaralı yeni b...                Kombi   \n",
       "101    tarabya sanatcılar sitesin de ferah teraslı 4...                Kombi   \n",
       "103    panorama'dan istinye park'ta full mobilyalı b...                Kombi   \n",
       "104    4*4 madende deniz manzaralı, teraslı havuzlu ...                Kombi   \n",
       "113    rumelihisarı'nda manzaralı bahçe kullanimlı y...                Kombi   \n",
       "204    sarıyer tarabya bahçeli havuzlu site'de duble...                Kombi   \n",
       "211    sarıyer zekeriyaköy de site içinde kiralık 4+...                Kombi   \n",
       "213    rumeli hisarında muhteşem boğaz ve doğa manza...                Kombi   \n",
       "226    yeniköy de muhteşem manzaralı,teraslı dubleks...                Kombi   \n",
       "232    tarabya 2 bloklu butik site deniz ve doğa man...                Kombi   \n",
       "277    enjoyable flat ın tarabya wıth bosphorus and ...                Kombi   \n",
       "280    rumelihisar da sahile yakın muhteşem boğaz ba...                Kombi   \n",
       "288    tarabyaüstü'nde boğaz manzaralı bahçeli 3 +1 ...                Kombi   \n",
       "347      tarabya üstü deniz doğa manzaralı teraslı 3+1                 Kombi   \n",
       "351        tarabya' da elit sitede aydınlık ferah daire                Kombi   \n",
       "363       ali obuz'dan aksoy tarabya'da havuz manzaralı                Kombi   \n",
       "378    istinyepark residence 3+1 fırsat kiralık dair...                Kombi   \n",
       "403                    yeniköy kiralık 4+1 çatı dubleks                Kombi   \n",
       "409     yeniköy ferahevlerde sıfır proje 4+1çatı dublex                Kombi   \n",
       "415    abn'den emirgan 'da yeni sitede kiralık alter...                Kombi   \n",
       "421    istinyepark evlerinde kiralık temiz daire zor...                Kombi   \n",
       "500    tarabya'da sahile yakın bahçe içinde temiz du...                Kombi   \n",
       "508    kilyosun girişinde kısmi eşyalı kiralık çatı ...                Kombi   \n",
       "569    yeniköy de muhteşem boğaz manzaralı teraslı d...                Kombi   \n",
       "578    yeniköy sırtta büyük teraslı 4+1 şık çatı dub...                Kombi   \n",
       "611    güven emlaktan emirganda dubleks ev yada ofis...                Kombi   \n",
       "647                 rumelihisarında muhteşem teras katı                Kombi   \n",
       "671               maslak 1453 kiralık loft dublex daire              Merkezi   \n",
       "673    tarabya polat koru sitesinde bakımlı kiralık ...              Merkezi   \n",
       "681    yeniköy'de full boğaz manzaralı balkonlu kira...              Merkezi   \n",
       "686    tarabya'da kısmi deniz manzaralı site içinde ...              Merkezi   \n",
       "690                       maslak 1453 kiralık daire 3+1              Merkezi   \n",
       "699                 maslak 1453 kiralık daire 3+1 200m2              Merkezi   \n",
       "701    rumelihisarı'nda manzaralı bahçe kullanimlı y...              Merkezi   \n",
       "705    rumelihisarı'nda muhteşem manzaralı kiralık d...              Merkezi   \n",
       "707          maslak 1453 kiralık daire 3+1 eşyalı 200m2              Merkezi   \n",
       "715    maslak 1453 kiralık 3+1 fırsat hemen oturun g...              Merkezi   \n",
       "721      tarabya çamlık sitesinde havuz cepheli dubleks              Merkezi   \n",
       "730    emirganda sahile yürüme mesafesinde 3+1 yeni ...              Merkezi   \n",
       "737        metro'ya 4dk., full eşyalı, faturalar dahil               Merkezi   \n",
       "750                       maslak 1453 kiralık daire 3+1              Merkezi   \n",
       "757          boğazın en güzel manzaralı dairesi kiralık              Merkezi   \n",
       "769     rumelihisarı'nda muhteşem manzaralı kiralık 4+1              Merkezi   \n",
       "784                      tarabya nezih sitede 4+1 daire              Merkezi   \n",
       "819    list istinye'de fırsat köşe bahçe tek yetkili...  Merkezi (Pay Ölçer)   \n",
       "833    tarabya incisi nurol sitesinde mükemmel özel ...  Merkezi (Pay Ölçer)   \n",
       "835    turyap'tan istinye park evlerinde 3+1kiralık ...  Merkezi (Pay Ölçer)   \n",
       "838    darüşşafaka sitede merkezi konumda bakımlı 4+...  Merkezi (Pay Ölçer)   \n",
       "944              sarıyer maslak 1453 de 3+1 kıralık boş  Merkezi (Pay Ölçer)   \n",
       "963    maslak ağaoğlu 1453'te kaliteli kiralık eşyal...  Merkezi (Pay Ölçer)   \n",
       "1062   tarabya merkezde aktiviteli site onu açık mob...  Merkezi (Pay Ölçer)   \n",
       "1077   vadistanbul teras evleri'nde çok temiz kiralı...  Merkezi (Pay Ölçer)   \n",
       "1096   maslak 1453 ağaoğlu kiralık eşyalı 3+1 daire ...  Merkezi (Pay Ölçer)   \n",
       "\n",
       "      celly_buildingAge celly_floortype                         location  \\\n",
       "2                    20       Çatı Katı        Sarıyer,Tarabya Mahallesi   \n",
       "43                   11          3. Kat        Sarıyer,İstinye Mahallesi   \n",
       "50                    0             NaN     Sarıyer,Ferahevler Mahallesi   \n",
       "79                   21          5. Kat        Sarıyer,Tarabya Mahallesi   \n",
       "83                   15      Bahçe Katı         Sarıyer,Kumköy Mahallesi   \n",
       "90                   16          2. Kat        Sarıyer,Tarabya Mahallesi   \n",
       "93                   30          1. Kat     Sarıyer,Kireçburnu Mahallesi   \n",
       "99                    3      Bahçe Katı        Sarıyer,Tarabya Mahallesi   \n",
       "101                  28          5. Kat        Sarıyer,Tarabya Mahallesi   \n",
       "103                  12          1. Kat        Sarıyer,İstinye Mahallesi   \n",
       "104                   2          3. Kat          Sarıyer,Maden Mahallesi   \n",
       "113                  30      Bahçe Katı  Sarıyer,Rumeli Hisarı Mahallesi   \n",
       "204                  25          2. Kat     Sarıyer,Ferahevler Mahallesi   \n",
       "211                  10      Bahçe Katı     Sarıyer,Uskumruköy Mahallesi   \n",
       "213                  25          3. Kat  Sarıyer,Rumeli Hisarı Mahallesi   \n",
       "226                  15             NaN        Sarıyer,Yeniköy Mahallesi   \n",
       "232                  20          3. Kat        Sarıyer,Tarabya Mahallesi   \n",
       "277                  20      Bahçe Katı        Sarıyer,Tarabya Mahallesi   \n",
       "280                  28      Bahçe Katı  Sarıyer,Rumeli Hisarı Mahallesi   \n",
       "288                  20      Bahçe Katı        Sarıyer,Tarabya Mahallesi   \n",
       "347                  25          5. Kat        Sarıyer,Tarabya Mahallesi   \n",
       "351                  20          2. Kat        Sarıyer,Tarabya Mahallesi   \n",
       "363                  15          4. Kat     Sarıyer,Ferahevler Mahallesi   \n",
       "378                   7          4. Kat        Sarıyer,İstinye Mahallesi   \n",
       "403                  30       Çatı Katı        Sarıyer,Yeniköy Mahallesi   \n",
       "409                   0          4. Kat        Sarıyer,Yeniköy Mahallesi   \n",
       "415                   0       Çatı Katı      Sarıyer,Reşitpaşa Mahallesi   \n",
       "421                  11          2. Kat          Sarıyer,Pınar Mahallesi   \n",
       "500                  15          1. Kat        Sarıyer,Tarabya Mahallesi   \n",
       "508                   5       Çatı Katı         Sarıyer,Kumköy Mahallesi   \n",
       "569                  16       Çatı Katı        Sarıyer,Yeniköy Mahallesi   \n",
       "578                  25          3. Kat        Sarıyer,Yeniköy Mahallesi   \n",
       "611                  40          3. Kat        Sarıyer,Emirgan Mahallesi   \n",
       "647                  35             NaN  Sarıyer,Rumeli Hisarı Mahallesi   \n",
       "671                   1         12. Kat         Sarıyer,Maslak Mahallesi   \n",
       "673                  25          3. Kat        Sarıyer,Tarabya Mahallesi   \n",
       "681                  30          2. Kat        Sarıyer,Yeniköy Mahallesi   \n",
       "686                  22      Giriş Katı     Sarıyer,Ferahevler Mahallesi   \n",
       "690                   1          8. Kat         Sarıyer,Maslak Mahallesi   \n",
       "699                   1          9. Kat         Sarıyer,Maslak Mahallesi   \n",
       "701                  25      Bahçe Katı  Sarıyer,Rumeli Hisarı Mahallesi   \n",
       "705                  30          3. Kat  Sarıyer,Rumeli Hisarı Mahallesi   \n",
       "707                   1          9. Kat         Sarıyer,Maslak Mahallesi   \n",
       "715                   2         14. Kat         Sarıyer,Maslak Mahallesi   \n",
       "721                  30      Giriş Katı        Sarıyer,Tarabya Mahallesi   \n",
       "730                   0          2. Kat        Sarıyer,Emirgan Mahallesi   \n",
       "737                   7         Ara Kat         Sarıyer,Maslak Mahallesi   \n",
       "750                   1          9. Kat         Sarıyer,Maslak Mahallesi   \n",
       "757                  20          2. Kat  Sarıyer,Rumeli Hisarı Mahallesi   \n",
       "769                  25          2. Kat  Sarıyer,Rumeli Hisarı Mahallesi   \n",
       "784                  20             NaN     Sarıyer,Ferahevler Mahallesi   \n",
       "819                   2      Bahçe Katı        Sarıyer,İstinye Mahallesi   \n",
       "833                  26          3. Kat        Sarıyer,Tarabya Mahallesi   \n",
       "835                   6          4. Kat          Sarıyer,Pınar Mahallesi   \n",
       "838                  22    Yüksek Giriş    Sarıyer,Darüşşafaka Mahallesi   \n",
       "944                   3          7. Kat         Sarıyer,Maslak Mahallesi   \n",
       "963                   4          5. Kat         Sarıyer,Maslak Mahallesi   \n",
       "1062                 28          2. Kat        Sarıyer,Tarabya Mahallesi   \n",
       "1077                  5     21 ve üzeri        Sarıyer,Ayazağa Mahallesi   \n",
       "1096                  4          5. Kat         Sarıyer,Maslak Mahallesi   \n",
       "\n",
       "                 days  price  deprem_sonrası  \n",
       "2      13 Temmuz 2020   5500               1  \n",
       "43     13 Temmuz 2020  23500               1  \n",
       "50     13 Temmuz 2020  48000               1  \n",
       "79      9 Temmuz 2020   4000               0  \n",
       "83      9 Temmuz 2020   5500               1  \n",
       "90     13 Temmuz 2020  20000               1  \n",
       "93      7 Temmuz 2020  12000               0  \n",
       "99      9 Temmuz 2020  10000               1  \n",
       "101    13 Temmuz 2020   5500               0  \n",
       "103    13 Temmuz 2020  24000               1  \n",
       "104    12 Temmuz 2020   7500               1  \n",
       "113     7 Temmuz 2020  13000               0  \n",
       "204   19 Haziran 2020   5700               0  \n",
       "211     6 Temmuz 2020   7500               1  \n",
       "213    13 Temmuz 2020  14000               0  \n",
       "226    11 Temmuz 2020  20000               1  \n",
       "232    12 Temmuz 2020   5500               1  \n",
       "277    13 Temmuz 2020   8000               1  \n",
       "280    11 Temmuz 2020  13000               0  \n",
       "288    13 Temmuz 2020   8000               1  \n",
       "347    12 Temmuz 2020   3500               0  \n",
       "351    11 Temmuz 2020  16000               1  \n",
       "363     2 Temmuz 2020  14900               1  \n",
       "378    13 Temmuz 2020  14000               1  \n",
       "403    11 Temmuz 2020   8500               0  \n",
       "409   30 Haziran 2020   9000               1  \n",
       "415   28 Haziran 2020   9500               1  \n",
       "421    13 Temmuz 2020  16000               1  \n",
       "500    13 Temmuz 2020  10000               1  \n",
       "508    10 Temmuz 2020   3500               1  \n",
       "569    13 Temmuz 2020  25000               1  \n",
       "578   15 Haziran 2020   8500               0  \n",
       "611    13 Temmuz 2020   9500               0  \n",
       "647   29 Haziran 2020  15000               0  \n",
       "671    13 Temmuz 2020  16000               1  \n",
       "673    13 Temmuz 2020   8900               0  \n",
       "681    10 Temmuz 2020  35000               0  \n",
       "686    13 Temmuz 2020   7500               0  \n",
       "690     7 Temmuz 2020   7000               1  \n",
       "699    10 Temmuz 2020   7000               1  \n",
       "701     9 Temmuz 2020  13000               0  \n",
       "705     7 Temmuz 2020  17000               0  \n",
       "707    10 Temmuz 2020  10000               1  \n",
       "715   18 Haziran 2020   7000               1  \n",
       "721     1 Temmuz 2020   8500               0  \n",
       "730     7 Temmuz 2020  10000               1  \n",
       "737     8 Temmuz 2020   1000               1  \n",
       "750     7 Temmuz 2020   7000               1  \n",
       "757   30 Haziran 2020  15000               1  \n",
       "769     9 Temmuz 2020  17000               0  \n",
       "784   19 Haziran 2020   6900               1  \n",
       "819    13 Temmuz 2020  13000               1  \n",
       "833    13 Temmuz 2020  12000               0  \n",
       "835     7 Temmuz 2020  26000               1  \n",
       "838    10 Temmuz 2020   3700               0  \n",
       "944    13 Temmuz 2020   7000               1  \n",
       "963     6 Temmuz 2020   9500               1  \n",
       "1062    6 Temmuz 2020  17250               0  \n",
       "1077   13 Temmuz 2020  14000               1  \n",
       "1096  29 Haziran 2020   9000               1  "
      ]
     },
     "execution_count": 31,
     "metadata": {},
     "output_type": "execute_result"
    }
   ],
   "source": [
    "df[df.m2.isnull()]"
   ]
  },
  {
   "cell_type": "markdown",
   "metadata": {},
   "source": [
    "# Boş Değerleri Doldurma"
   ]
  },
  {
   "cell_type": "code",
   "execution_count": 33,
   "metadata": {
    "collapsed": true,
    "jupyter": {
     "outputs_hidden": true
    }
   },
   "outputs": [
    {
     "name": "stderr",
     "output_type": "stream",
     "text": [
      "C:\\Users\\PACKERDBELL\\Anaconda3\\lib\\site-packages\\statsmodels\\tools\\_testing.py:19: FutureWarning: pandas.util.testing is deprecated. Use the functions in the public API at pandas.testing instead.\n",
      "  import pandas.util.testing as tm\n"
     ]
    }
   ],
   "source": [
    "import seaborn as sns"
   ]
  },
  {
   "cell_type": "code",
   "execution_count": 36,
   "metadata": {},
   "outputs": [
    {
     "data": {
      "text/plain": [
       "<matplotlib.axes._subplots.AxesSubplot at 0x1fdbcffe8c8>"
      ]
     },
     "execution_count": 36,
     "metadata": {},
     "output_type": "execute_result"
    },
    {
     "data": {
      "image/png": "[encoded data removed]",
      "text/plain": [
       "<Figure size 432x288 with 1 Axes>"
      ]
     },
     "metadata": {
      "needs_background": "light"
     },
     "output_type": "display_data"
    }
   ],
   "source": [
    "sns.distplot(df[\"m2\"].dropna())"
   ]
  },
  {
   "cell_type": "code",
   "execution_count": 37,
   "metadata": {},
   "outputs": [
    {
     "name": "stdout",
     "output_type": "stream",
     "text": [
      "133.19306466729148\n",
      "110.0\n"
     ]
    }
   ],
   "source": [
    "print(df.m2.mean())\n",
    "print(df.m2.median())"
   ]
  },
  {
   "cell_type": "code",
   "execution_count": 38,
   "metadata": {},
   "outputs": [],
   "source": [
    "# \\d+.kat\n",
    "# \\d+\\sm2"
   ]
  },
  {
   "cell_type": "code",
   "execution_count": 39,
   "metadata": {},
   "outputs": [
    {
     "name": "stdout",
     "output_type": "stream",
     "text": [
      "<class 'pandas.core.frame.DataFrame'>\n",
      "Int64Index: 1127 entries, 0 to 1130\n",
      "Data columns (total 10 columns):\n",
      " #   Column                Non-Null Count  Dtype  \n",
      "---  ------                --------------  -----  \n",
      " 0   m2                    1067 non-null   float64\n",
      " 1   celly_houseRoomCount  1127 non-null   object \n",
      " 2   description           1127 non-null   object \n",
      " 3   isitma                1127 non-null   object \n",
      " 4   celly_buildingAge     1127 non-null   int64  \n",
      " 5   celly_floortype       1007 non-null   object \n",
      " 6   location              1127 non-null   object \n",
      " 7   days                  1127 non-null   object \n",
      " 8   price                 1127 non-null   int64  \n",
      " 9   deprem_sonrası        1127 non-null   int64  \n",
      "dtypes: float64(1), int64(3), object(6)\n",
      "memory usage: 96.9+ KB\n"
     ]
    }
   ],
   "source": [
    "df.info()"
   ]
  },
  {
   "cell_type": "code",
   "execution_count": 40,
   "metadata": {
    "collapsed": true,
    "jupyter": {
     "outputs_hidden": true
    }
   },
   "outputs": [
    {
     "data": {
      "text/plain": [
       "2       NaN\n",
       "43      NaN\n",
       "50      NaN\n",
       "79      NaN\n",
       "83      169\n",
       "90      220\n",
       "93      NaN\n",
       "99      NaN\n",
       "101     NaN\n",
       "103     NaN\n",
       "104     NaN\n",
       "113     NaN\n",
       "204     NaN\n",
       "211     NaN\n",
       "213     NaN\n",
       "226     NaN\n",
       "232     NaN\n",
       "277     NaN\n",
       "280     NaN\n",
       "288     NaN\n",
       "347     NaN\n",
       "351     NaN\n",
       "363     NaN\n",
       "378     NaN\n",
       "403     NaN\n",
       "409     NaN\n",
       "415     NaN\n",
       "421     NaN\n",
       "500     NaN\n",
       "508     NaN\n",
       "569     NaN\n",
       "578     NaN\n",
       "611     NaN\n",
       "647     NaN\n",
       "671     NaN\n",
       "673     NaN\n",
       "681     NaN\n",
       "686     NaN\n",
       "690     NaN\n",
       "699     NaN\n",
       "701     NaN\n",
       "705     NaN\n",
       "707     NaN\n",
       "715     NaN\n",
       "721     NaN\n",
       "730     NaN\n",
       "737     NaN\n",
       "750     NaN\n",
       "757     NaN\n",
       "769     NaN\n",
       "784     NaN\n",
       "819     200\n",
       "833     NaN\n",
       "835     NaN\n",
       "838     NaN\n",
       "944     NaN\n",
       "963     NaN\n",
       "1062    NaN\n",
       "1077    NaN\n",
       "1096    NaN\n",
       "Name: 0, dtype: object"
      ]
     },
     "execution_count": 40,
     "metadata": {},
     "output_type": "execute_result"
    }
   ],
   "source": [
    "#null_df=df[df.m2.isnull()]\n",
    "#null_df.description.str.extract(' (\\d+) ([m2])', expand=False)[0]"
   ]
  },
  {
   "cell_type": "code",
   "execution_count": 42,
   "metadata": {},
   "outputs": [],
   "source": [
    "def findNullValues(df,col,aranacak_kel):\n",
    "    df[col]=df[col].astype(\"object\")\n",
    "    null_df=df[df[col].isnull()]\n",
    "    bilgi=null_df[\"description\"].tolist()\n",
    "    met=[]\n",
    "    ind=[]\n",
    "    for j,i in zip(null_df.index.to_list(),range(len(bilgi))):\n",
    "        kelimeler=bilgi[i].split()\n",
    "        for index,kelime in enumerate(kelimeler):\n",
    "            if(kelime.lower()==aranacak_kel):\n",
    "                met.append(kelimeler[index-1])\n",
    "                ind.append(j)\n",
    "            elif(kelime.lower().endswith(aranacak_kel)):\n",
    "                met.append(kelime)\n",
    "                ind.append(j)\n",
    "    m=pd.Series(met,ind)\n",
    "    df[col].fillna(m,inplace=True)\n",
    "    return df "
   ]
  },
  {
   "cell_type": "code",
   "execution_count": 43,
   "metadata": {},
   "outputs": [
    {
     "name": "stdout",
     "output_type": "stream",
     "text": [
      "<class 'pandas.core.frame.DataFrame'>\n",
      "Int64Index: 1127 entries, 0 to 1130\n",
      "Data columns (total 10 columns):\n",
      " #   Column                Non-Null Count  Dtype  \n",
      "---  ------                --------------  -----  \n",
      " 0   m2                    1067 non-null   float64\n",
      " 1   celly_houseRoomCount  1127 non-null   object \n",
      " 2   description           1127 non-null   object \n",
      " 3   isitma                1127 non-null   object \n",
      " 4   celly_buildingAge     1127 non-null   int64  \n",
      " 5   celly_floortype       1007 non-null   object \n",
      " 6   location              1127 non-null   object \n",
      " 7   days                  1127 non-null   object \n",
      " 8   price                 1127 non-null   int64  \n",
      " 9   deprem_sonrası        1127 non-null   int64  \n",
      "dtypes: float64(1), int64(3), object(6)\n",
      "memory usage: 96.9+ KB\n"
     ]
    }
   ],
   "source": [
    "df.info()"
   ]
  },
  {
   "cell_type": "code",
   "execution_count": 44,
   "metadata": {},
   "outputs": [
    {
     "name": "stdout",
     "output_type": "stream",
     "text": [
      "<class 'pandas.core.frame.DataFrame'>\n",
      "Int64Index: 1127 entries, 0 to 1130\n",
      "Data columns (total 10 columns):\n",
      " #   Column                Non-Null Count  Dtype \n",
      "---  ------                --------------  ----- \n",
      " 0   m2                    1072 non-null   object\n",
      " 1   celly_houseRoomCount  1127 non-null   object\n",
      " 2   description           1127 non-null   object\n",
      " 3   isitma                1127 non-null   object\n",
      " 4   celly_buildingAge     1127 non-null   int64 \n",
      " 5   celly_floortype       1026 non-null   object\n",
      " 6   location              1127 non-null   object\n",
      " 7   days                  1127 non-null   object\n",
      " 8   price                 1127 non-null   int64 \n",
      " 9   deprem_sonrası        1127 non-null   int64 \n",
      "dtypes: int64(3), object(7)\n",
      "memory usage: 96.9+ KB\n"
     ]
    }
   ],
   "source": [
    "df=findNullValues(df,\"celly_floortype\",\"katı\")\n",
    "df=findNullValues(df,\"m2\",\"m2\")\n",
    "df=findNullValues(df,\"celly_floortype\",\"kat\")\n",
    "df.info()"
   ]
  },
  {
   "cell_type": "code",
   "execution_count": 45,
   "metadata": {},
   "outputs": [],
   "source": [
    "import re"
   ]
  },
  {
   "cell_type": "code",
   "execution_count": 49,
   "metadata": {},
   "outputs": [
    {
     "name": "stdout",
     "output_type": "stream",
     "text": [
      "<class 'pandas.core.frame.DataFrame'>\n",
      "Int64Index: 1127 entries, 0 to 1130\n",
      "Data columns (total 10 columns):\n",
      " #   Column                Non-Null Count  Dtype \n",
      "---  ------                --------------  ----- \n",
      " 0   m2                    1072 non-null   object\n",
      " 1   celly_houseRoomCount  1127 non-null   object\n",
      " 2   description           1127 non-null   object\n",
      " 3   isitma                1127 non-null   object\n",
      " 4   celly_buildingAge     1127 non-null   int64 \n",
      " 5   celly_floortype       1026 non-null   object\n",
      " 6   location              1127 non-null   object\n",
      " 7   days                  1127 non-null   object\n",
      " 8   price                 1127 non-null   int64 \n",
      " 9   deprem_sonrası        1127 non-null   int64 \n",
      "dtypes: int64(3), object(7)\n",
      "memory usage: 96.9+ KB\n"
     ]
    },
    {
     "name": "stderr",
     "output_type": "stream",
     "text": [
      "C:\\Users\\PACKERDBELL\\Anaconda3\\lib\\site-packages\\ipykernel_launcher.py:12: DeprecationWarning: The default dtype for empty Series will be 'object' instead of 'float64' in a future version. Specify a dtype explicitly to silence this warning.\n",
      "  if sys.path[0] == '':\n"
     ]
    }
   ],
   "source": [
    "#df[\"celly_floortype\"]=df[\"celly_floortype\"].astype(\"object\")\n",
    "#null_df=df[df[\"celly_floortype\"].isnull()]\n",
    "#bilgi=null_df[\"description\"]\n",
    "#met=[]\n",
    "#ind=[]\n",
    "#for j in null_df.index.to_list():\n",
    "#    bul=re.findall(r'\\w+\\skatı',bilgi[j])\n",
    "#    if(len(bul)>0):\n",
    "\n",
    "#        met.append(bul[0][:-3])\n",
    "#        ind.append(j)\n",
    "#m=pd.Series(met,ind)\n",
    "#df[\"celly_floortype\"].fillna(m,inplace=True)\n",
    "df.info()"
   ]
  },
  {
   "cell_type": "code",
   "execution_count": 50,
   "metadata": {},
   "outputs": [
    {
     "data": {
      "text/plain": [
       "2. Kat          158\n",
       "3. Kat          120\n",
       "21 ve üzeri      94\n",
       "Bahçe Katı       93\n",
       "4. Kat           71\n",
       "1. Kat           69\n",
       "Çatı Katı        49\n",
       "Giriş Katı       45\n",
       "5. Kat           38\n",
       "Kot              23\n",
       "Ara Kat          23\n",
       "Yüksek Giriş     22\n",
       "10. Kat          20\n",
       "6. Kat           19\n",
       "9. Kat           19\n",
       "11. Kat          17\n",
       "8. Kat           17\n",
       "20. Kat          13\n",
       "7. Kat           11\n",
       "Villa Katı       10\n",
       "12. Kat          10\n",
       "14. Kat           9\n",
       "15. Kat           9\n",
       "18. Kat           9\n",
       "bahçe             8\n",
       "En Üst Kat        8\n",
       "17. Kat           6\n",
       "19. Kat           5\n",
       "13. Kat           5\n",
       "ara               5\n",
       "Zemin             4\n",
       "Teras Katı        4\n",
       "16. Kat           4\n",
       "arakat            2\n",
       "Yarı Bodrum       2\n",
       "yüksek            1\n",
       "bahçekatı         1\n",
       "teras             1\n",
       "Bodrum            1\n",
       "üst               1\n",
       "Name: celly_floortype, dtype: int64"
      ]
     },
     "execution_count": 50,
     "metadata": {},
     "output_type": "execute_result"
    }
   ],
   "source": [
    "df.celly_floortype.value_counts()"
   ]
  },
  {
   "cell_type": "code",
   "execution_count": 51,
   "metadata": {},
   "outputs": [
    {
     "data": {
      "text/plain": [
       "array([95.0, 110.0, nan, 80.0, 170.0, 198.0, 85.0, 100.0, 55.0, 54.0,\n",
       "       94.0, 188.0, 37.0, 60.0, 45.0, 450.0, 120.0, 183.0, 330.0, 114.0,\n",
       "       40.0, 84.0, 90.0, 140.0, 160.0, 70.0, 104.0, 35.0, 168.0, 50.0,\n",
       "       175.0, 105.0, 190.0, 125.0, 130.0, 65.0, '190m2', 118.0, 115.0,\n",
       "       '220', 145.0, 61.0, 360.0, 300.0, 150.0, 180.0, 10.0, 166.0, 14.0,\n",
       "       194.0, 5.0, 315.0, 75.0, 500.0, 185.0, 135.0, 30.0, 165.0, 97.0,\n",
       "       350.0, 16.0, 74.0, 460.0, 480.0, 136.0, 147.0, 400.0, 111.0, 46.0,\n",
       "       196.0, 157.0, 144.0, 56.0, 109.0, 195.0, 96.0, 600.0, 78.0, 176.0,\n",
       "       33.0, 44.0, 88.0, 320.0, 370.0, 388.0, 316.0, 560.0, 68.0, 310.0,\n",
       "       340.0, 63.0, 64.0, '200m2', 9.0, 139.0, 780.0, 335.0, 550.0, 19.0,\n",
       "       76.0, 4.0, 77.0, 6.0, '200', 380.0, 89.0, 126.0, 18.0, 83.0, 47.0,\n",
       "       67.0, 137.0, 87.0, 69.0, 117.0, 73.0, 128.0, 177.0, 86.0, 146.0,\n",
       "       155.0, 187.0, 98.0, 57.0, 51.0, 79.0, 167.0, 8.0, 325.0, 7.0,\n",
       "       319.0, 81.0, 184.0, 58.0], dtype=object)"
      ]
     },
     "execution_count": 51,
     "metadata": {},
     "output_type": "execute_result"
    }
   ],
   "source": [
    "df.m2.unique()"
   ]
  },
  {
   "cell_type": "code",
   "execution_count": 64,
   "metadata": {},
   "outputs": [],
   "source": [
    "df.loc[df[\"m2\"]==\"190m2\",\"m2\"]=190\n",
    "df.loc[df[\"m2\"]==\"200m2\",\"m2\"]=200"
   ]
  },
  {
   "cell_type": "code",
   "execution_count": 65,
   "metadata": {},
   "outputs": [],
   "source": [
    "df.m2=df.m2.astype(\"float64\")"
   ]
  },
  {
   "cell_type": "code",
   "execution_count": 66,
   "metadata": {},
   "outputs": [
    {
     "data": {
      "text/plain": [
       "m2                       55\n",
       "celly_houseRoomCount      0\n",
       "description               0\n",
       "isitma                    0\n",
       "celly_buildingAge         0\n",
       "celly_floortype         101\n",
       "location                  0\n",
       "days                      0\n",
       "price                     0\n",
       "deprem_sonrası            0\n",
       "dtype: int64"
      ]
     },
     "execution_count": 66,
     "metadata": {},
     "output_type": "execute_result"
    }
   ],
   "source": [
    "df.isnull().sum()"
   ]
  },
  {
   "cell_type": "code",
   "execution_count": 67,
   "metadata": {},
   "outputs": [
    {
     "data": {
      "text/plain": [
       "array(['2 + 1', '4 + 1', '1 + 1', '3 + 1', '1 + 0', '5 + 2', '5 + 1',\n",
       "       '6 + 1', '4 + 2', '3 + 2', '3 + 0', '4 + 4', '7 + 2', '7 + 1',\n",
       "       '6 + 2', '31 + 1', '5 + 3'], dtype=object)"
      ]
     },
     "execution_count": 67,
     "metadata": {},
     "output_type": "execute_result"
    }
   ],
   "source": [
    "room_cnt = df['celly_houseRoomCount'].tolist()\n",
    "\n",
    "# You can use a for loop to convert 'Chip Time' to minutes\n",
    "\n",
    "room = []\n",
    "for i in room_cnt:\n",
    "    if(i==\"Stüdyo\"):\n",
    "        room.append(\"1 + 0\")\n",
    "    else:\n",
    "        room.append(i)\n",
    "\n",
    "df['celly_houseRoomCount'] = room\n",
    "df['celly_houseRoomCount'].unique()"
   ]
  },
  {
   "cell_type": "markdown",
   "metadata": {},
   "source": [
    "# Null Doldurma"
   ]
  },
  {
   "cell_type": "code",
   "execution_count": 68,
   "metadata": {},
   "outputs": [
    {
     "name": "stdout",
     "output_type": "stream",
     "text": [
      "<class 'pandas.core.frame.DataFrame'>\n",
      "Int64Index: 1127 entries, 0 to 1130\n",
      "Data columns (total 10 columns):\n",
      " #   Column                Non-Null Count  Dtype  \n",
      "---  ------                --------------  -----  \n",
      " 0   m2                    1127 non-null   float64\n",
      " 1   celly_houseRoomCount  1127 non-null   object \n",
      " 2   description           1127 non-null   object \n",
      " 3   isitma                1127 non-null   object \n",
      " 4   celly_buildingAge     1127 non-null   int64  \n",
      " 5   celly_floortype       1026 non-null   object \n",
      " 6   location              1127 non-null   object \n",
      " 7   days                  1127 non-null   object \n",
      " 8   price                 1127 non-null   int64  \n",
      " 9   deprem_sonrası        1127 non-null   int64  \n",
      "dtypes: float64(1), int64(3), object(6)\n",
      "memory usage: 96.9+ KB\n"
     ]
    }
   ],
   "source": [
    "# En yakın komşuyla doldurma\n",
    "from sklearn.impute import KNNImputer\n",
    "imputer = KNNImputer(n_neighbors=3, weights=\"uniform\")\n",
    "df[\"m2\"] = imputer.fit_transform(df[\"m2\"].values.reshape(-1,1))\n",
    "df.info()"
   ]
  },
  {
   "cell_type": "code",
   "execution_count": 69,
   "metadata": {},
   "outputs": [],
   "source": [
    "# En çok tekrar edenle (most frequently)\n",
    "df[\"celly_floortype\"]=df[\"celly_floortype\"].fillna(df[\"celly_floortype\"].value_counts(ascending=False).index[0])"
   ]
  },
  {
   "cell_type": "markdown",
   "metadata": {},
   "source": [
    "# Şimdi days kolonu üzerinde işlemler yapalım"
   ]
  },
  {
   "cell_type": "code",
   "execution_count": 70,
   "metadata": {},
   "outputs": [],
   "source": [
    "months = {\"Ocak\":\"January\", \"Şubat\":\"February\", \"Mart\":\"March\", \"Nisan\":\"April\",\n",
    "          \"Mayıs\":\"May\", \"Haziran\":\"June\",\"Temmuz\":\"July\",\"Ağustos\":\"August\",\n",
    "          \"Eylül\":\"September\", \"Ekim\":\"October\", \"Kasım\":\"November\", \"Aralık\":\"December\"}"
   ]
  },
  {
   "cell_type": "code",
   "execution_count": 71,
   "metadata": {},
   "outputs": [],
   "source": [
    "df.days = df.days.replace(months, regex=True)"
   ]
  },
  {
   "cell_type": "code",
   "execution_count": 72,
   "metadata": {},
   "outputs": [
    {
     "data": {
      "text/plain": [
       "13 July 2020    360\n",
       "12 July 2020    111\n",
       "8 July 2020      80\n",
       "11 July 2020     64\n",
       "10 July 2020     59\n",
       "7 July 2020      42\n",
       "6 July 2020      37\n",
       "9 July 2020      33\n",
       "30 June 2020     32\n",
       "3 July 2020      29\n",
       "1 July 2020      26\n",
       "4 July 2020      23\n",
       "28 June 2020     20\n",
       "29 June 2020     18\n",
       "18 June 2020     16\n",
       "23 June 2020     16\n",
       "2 July 2020      15\n",
       "26 June 2020     14\n",
       "5 July 2020      13\n",
       "17 June 2020     12\n",
       "22 June 2020     10\n",
       "25 June 2020     10\n",
       "21 June 2020      9\n",
       "15 June 2020      9\n",
       "27 June 2020      9\n",
       "14 June 2020      8\n",
       "20 June 2020      8\n",
       "16 June 2020      7\n",
       "19 June 2020      5\n",
       "23 May 2020       4\n",
       "1 June 2020       3\n",
       "13 June 2020      3\n",
       "4 June 2020       3\n",
       "3 June 2020       2\n",
       "2 June 2020       2\n",
       "24 June 2020      2\n",
       "24 May 2020       2\n",
       "8 June 2020       2\n",
       "16 May 2020       2\n",
       "27 May 2020       2\n",
       "31 May 2020       1\n",
       "15 May 2020       1\n",
       "29 May 2020       1\n",
       "5 June 2020       1\n",
       "30 May 2020       1\n",
       "Name: days, dtype: int64"
      ]
     },
     "execution_count": 72,
     "metadata": {},
     "output_type": "execute_result"
    }
   ],
   "source": [
    "df.days.value_counts()"
   ]
  },
  {
   "cell_type": "code",
   "execution_count": 73,
   "metadata": {},
   "outputs": [],
   "source": [
    "df.days = pd.to_datetime(df.days)"
   ]
  },
  {
   "cell_type": "code",
   "execution_count": 74,
   "metadata": {},
   "outputs": [],
   "source": [
    "# Kazıdığım gün.Bir ev ilanı ne kadar çok beklerse o kadar fiyat düşebilir?\n",
    "df['ad_duration'] = pd.to_datetime('2020-07-13') - pd.to_datetime(df['days'])"
   ]
  },
  {
   "cell_type": "code",
   "execution_count": 75,
   "metadata": {},
   "outputs": [
    {
     "data": {
      "text/html": [
       "<div>\n",
       "<style scoped>\n",
       "    .dataframe tbody tr th:only-of-type {\n",
       "        vertical-align: middle;\n",
       "    }\n",
       "\n",
       "    .dataframe tbody tr th {\n",
       "        vertical-align: top;\n",
       "    }\n",
       "\n",
       "    .dataframe thead th {\n",
       "        text-align: right;\n",
       "    }\n",
       "</style>\n",
       "<table border=\"1\" class=\"dataframe\">\n",
       "  <thead>\n",
       "    <tr style=\"text-align: right;\">\n",
       "      <th></th>\n",
       "      <th>m2</th>\n",
       "      <th>celly_houseRoomCount</th>\n",
       "      <th>description</th>\n",
       "      <th>isitma</th>\n",
       "      <th>celly_buildingAge</th>\n",
       "      <th>celly_floortype</th>\n",
       "      <th>location</th>\n",
       "      <th>days</th>\n",
       "      <th>price</th>\n",
       "      <th>deprem_sonrası</th>\n",
       "      <th>ad_duration</th>\n",
       "    </tr>\n",
       "  </thead>\n",
       "  <tbody>\n",
       "    <tr>\n",
       "      <th>0</th>\n",
       "      <td>95.000000</td>\n",
       "      <td>2 + 1</td>\n",
       "      <td>baltalimanında 2+1 eşyalı daire</td>\n",
       "      <td>Kat Kaloriferi</td>\n",
       "      <td>25</td>\n",
       "      <td>1. Kat</td>\n",
       "      <td>Sarıyer,Baltalimanı Mahallesi</td>\n",
       "      <td>2020-07-05</td>\n",
       "      <td>4250</td>\n",
       "      <td>0</td>\n",
       "      <td>8 days</td>\n",
       "    </tr>\n",
       "    <tr>\n",
       "      <th>1</th>\n",
       "      <td>110.000000</td>\n",
       "      <td>2 + 1</td>\n",
       "      <td>sahibinden full eşyalı daire</td>\n",
       "      <td>Kat Kaloriferi</td>\n",
       "      <td>20</td>\n",
       "      <td>2. Kat</td>\n",
       "      <td>Sarıyer,Ayazağa Mahallesi</td>\n",
       "      <td>2020-06-20</td>\n",
       "      <td>2700</td>\n",
       "      <td>1</td>\n",
       "      <td>23 days</td>\n",
       "    </tr>\n",
       "    <tr>\n",
       "      <th>2</th>\n",
       "      <td>133.513993</td>\n",
       "      <td>4 + 1</td>\n",
       "      <td>tarabya sanatcılar sitesinde ferah teraslı 4+...</td>\n",
       "      <td>Kat Kaloriferi</td>\n",
       "      <td>20</td>\n",
       "      <td>Çatı Katı</td>\n",
       "      <td>Sarıyer,Tarabya Mahallesi</td>\n",
       "      <td>2020-07-13</td>\n",
       "      <td>5500</td>\n",
       "      <td>1</td>\n",
       "      <td>0 days</td>\n",
       "    </tr>\n",
       "    <tr>\n",
       "      <th>3</th>\n",
       "      <td>80.000000</td>\n",
       "      <td>1 + 1</td>\n",
       "      <td>sariyer merkezde caddede ofise kuaföre vs.uyg...</td>\n",
       "      <td>Klima</td>\n",
       "      <td>20</td>\n",
       "      <td>2. Kat</td>\n",
       "      <td>Sarıyer,Merkez Mahallesi</td>\n",
       "      <td>2020-07-07</td>\n",
       "      <td>2250</td>\n",
       "      <td>1</td>\n",
       "      <td>6 days</td>\n",
       "    </tr>\n",
       "    <tr>\n",
       "      <th>4</th>\n",
       "      <td>80.000000</td>\n",
       "      <td>1 + 1</td>\n",
       "      <td>sarıyer ayazağa meydan 1+1 eşyalı kiralık dai...</td>\n",
       "      <td>Klima</td>\n",
       "      <td>14</td>\n",
       "      <td>6. Kat</td>\n",
       "      <td>Sarıyer,Ayazağa Mahallesi</td>\n",
       "      <td>2020-07-11</td>\n",
       "      <td>1600</td>\n",
       "      <td>1</td>\n",
       "      <td>2 days</td>\n",
       "    </tr>\n",
       "  </tbody>\n",
       "</table>\n",
       "</div>"
      ],
      "text/plain": [
       "           m2 celly_houseRoomCount  \\\n",
       "0   95.000000                2 + 1   \n",
       "1  110.000000                2 + 1   \n",
       "2  133.513993                4 + 1   \n",
       "3   80.000000                1 + 1   \n",
       "4   80.000000                1 + 1   \n",
       "\n",
       "                                         description          isitma  \\\n",
       "0                   baltalimanında 2+1 eşyalı daire   Kat Kaloriferi   \n",
       "1                       sahibinden full eşyalı daire  Kat Kaloriferi   \n",
       "2   tarabya sanatcılar sitesinde ferah teraslı 4+...  Kat Kaloriferi   \n",
       "3   sariyer merkezde caddede ofise kuaföre vs.uyg...           Klima   \n",
       "4   sarıyer ayazağa meydan 1+1 eşyalı kiralık dai...           Klima   \n",
       "\n",
       "   celly_buildingAge celly_floortype                       location  \\\n",
       "0                 25          1. Kat  Sarıyer,Baltalimanı Mahallesi   \n",
       "1                 20          2. Kat      Sarıyer,Ayazağa Mahallesi   \n",
       "2                 20       Çatı Katı      Sarıyer,Tarabya Mahallesi   \n",
       "3                 20          2. Kat       Sarıyer,Merkez Mahallesi   \n",
       "4                 14          6. Kat      Sarıyer,Ayazağa Mahallesi   \n",
       "\n",
       "        days  price  deprem_sonrası ad_duration  \n",
       "0 2020-07-05   4250               0      8 days  \n",
       "1 2020-06-20   2700               1     23 days  \n",
       "2 2020-07-13   5500               1      0 days  \n",
       "3 2020-07-07   2250               1      6 days  \n",
       "4 2020-07-11   1600               1      2 days  "
      ]
     },
     "execution_count": 75,
     "metadata": {},
     "output_type": "execute_result"
    }
   ],
   "source": [
    "df.head()"
   ]
  },
  {
   "cell_type": "code",
   "execution_count": 76,
   "metadata": {},
   "outputs": [
    {
     "name": "stdout",
     "output_type": "stream",
     "text": [
      "<class 'pandas.core.frame.DataFrame'>\n",
      "Int64Index: 1127 entries, 0 to 1130\n",
      "Data columns (total 11 columns):\n",
      " #   Column                Non-Null Count  Dtype          \n",
      "---  ------                --------------  -----          \n",
      " 0   m2                    1127 non-null   float64        \n",
      " 1   celly_houseRoomCount  1127 non-null   object         \n",
      " 2   description           1127 non-null   object         \n",
      " 3   isitma                1127 non-null   object         \n",
      " 4   celly_buildingAge     1127 non-null   int64          \n",
      " 5   celly_floortype       1127 non-null   object         \n",
      " 6   location              1127 non-null   object         \n",
      " 7   days                  1127 non-null   datetime64[ns] \n",
      " 8   price                 1127 non-null   int64          \n",
      " 9   deprem_sonrası        1127 non-null   int64          \n",
      " 10  ad_duration           1127 non-null   timedelta64[ns]\n",
      "dtypes: datetime64[ns](1), float64(1), int64(3), object(5), timedelta64[ns](1)\n",
      "memory usage: 105.7+ KB\n"
     ]
    }
   ],
   "source": [
    "df.info()"
   ]
  },
  {
   "cell_type": "markdown",
   "metadata": {},
   "source": [
    "### days sütunu ile işimiz bittii"
   ]
  },
  {
   "cell_type": "markdown",
   "metadata": {},
   "source": [
    "# EDA"
   ]
  },
  {
   "cell_type": "code",
   "execution_count": 77,
   "metadata": {},
   "outputs": [
    {
     "data": {
      "text/plain": [
       "array(['2 + 1', '4 + 1', '1 + 1', '3 + 1', '1 + 0', '5 + 2', '5 + 1',\n",
       "       '6 + 1', '4 + 2', '3 + 2', '3 + 0', '4 + 4', '7 + 2', '7 + 1',\n",
       "       '6 + 2', '31 + 1', '5 + 3'], dtype=object)"
      ]
     },
     "execution_count": 77,
     "metadata": {},
     "output_type": "execute_result"
    }
   ],
   "source": [
    "df.celly_houseRoomCount.unique()"
   ]
  },
  {
   "cell_type": "code",
   "execution_count": 78,
   "metadata": {},
   "outputs": [],
   "source": [
    "outlier_roomCount=df[ (df.celly_houseRoomCount==\"31 + 1\") | (df.celly_houseRoomCount==\"7 + 1\") |\n",
    "   (df.celly_houseRoomCount==\"7 + 2\") | (df.celly_floortype==\"Villa Katı\")].index.to_list()\n",
    "df.drop(outlier_roomCount,inplace=True)"
   ]
  },
  {
   "cell_type": "code",
   "execution_count": 79,
   "metadata": {},
   "outputs": [
    {
     "data": {
      "text/plain": [
       "(1109, 11)"
      ]
     },
     "execution_count": 79,
     "metadata": {},
     "output_type": "execute_result"
    }
   ],
   "source": [
    "df.shape"
   ]
  },
  {
   "cell_type": "markdown",
   "metadata": {},
   "source": [
    "# Price Outlier Detection"
   ]
  },
  {
   "cell_type": "code",
   "execution_count": 80,
   "metadata": {},
   "outputs": [
    {
     "name": "stdout",
     "output_type": "stream",
     "text": [
      "46348.44815148783\n",
      "5500.0\n"
     ]
    }
   ],
   "source": [
    "print(df.price.mean())\n",
    "print(df.price.median()) # Outlier Alarm !"
   ]
  },
  {
   "cell_type": "code",
   "execution_count": 81,
   "metadata": {},
   "outputs": [
    {
     "name": "stdout",
     "output_type": "stream",
     "text": [
      "18000000\n",
      "500\n"
     ]
    }
   ],
   "source": [
    "print(df.price.max())\n",
    "print(df.price.min())"
   ]
  },
  {
   "cell_type": "code",
   "execution_count": 82,
   "metadata": {},
   "outputs": [
    {
     "data": {
      "text/plain": [
       "779     18000000\n",
       "393      8750000\n",
       "979      3250000\n",
       "1018     3100000\n",
       "883      2200000\n",
       "932      1750000\n",
       "1004     1450000\n",
       "998      1300000\n",
       "842      1250000\n",
       "949      1130000\n",
       "712        78000\n",
       "786        54800\n",
       "785        54800\n",
       "165        50000\n",
       "50         48000\n",
       "793        47900\n",
       "503        44000\n",
       "771        42000\n",
       "653        42000\n",
       "794        41100\n",
       "Name: price, dtype: int64"
      ]
     },
     "execution_count": 82,
     "metadata": {},
     "output_type": "execute_result"
    }
   ],
   "source": [
    "df.price.sort_values(ascending=False).head(20)"
   ]
  },
  {
   "cell_type": "code",
   "execution_count": 83,
   "metadata": {},
   "outputs": [],
   "source": [
    "df.drop([779,393,979,1018,883,932,1004,998,842,949,712], inplace=True) # fiyatı yukarı çekenler"
   ]
  },
  {
   "cell_type": "code",
   "execution_count": 84,
   "metadata": {},
   "outputs": [
    {
     "data": {
      "text/plain": [
       "179    1200\n",
       "183    1200\n",
       "567    1200\n",
       "799    1200\n",
       "362    1200\n",
       "635    1100\n",
       "192    1100\n",
       "251    1100\n",
       "797    1000\n",
       "796    1000\n",
       "737    1000\n",
       "238    1000\n",
       "800    1000\n",
       "801    1000\n",
       "184    1000\n",
       "626     900\n",
       "805     900\n",
       "804     750\n",
       "803     750\n",
       "22      500\n",
       "Name: price, dtype: int64"
      ]
     },
     "execution_count": 84,
     "metadata": {},
     "output_type": "execute_result"
    }
   ],
   "source": [
    "df.price.sort_values(ascending=False).tail(20)"
   ]
  },
  {
   "cell_type": "code",
   "execution_count": 85,
   "metadata": {},
   "outputs": [],
   "source": [
    "df.drop([626,805,804,803,22], inplace=True) "
   ]
  },
  {
   "cell_type": "code",
   "execution_count": 86,
   "metadata": {},
   "outputs": [
    {
     "data": {
      "text/plain": [
       "796    1000\n",
       "184    1000\n",
       "801    1000\n",
       "737    1000\n",
       "800    1000\n",
       "797    1000\n",
       "238    1000\n",
       "635    1100\n",
       "192    1100\n",
       "251    1100\n",
       "799    1200\n",
       "183    1200\n",
       "362    1200\n",
       "567    1200\n",
       "179    1200\n",
       "798    1250\n",
       "664    1250\n",
       "610    1250\n",
       "40     1300\n",
       "237    1300\n",
       "Name: price, dtype: int64"
      ]
     },
     "execution_count": 86,
     "metadata": {},
     "output_type": "execute_result"
    }
   ],
   "source": [
    "df.price.sort_values().head(20)"
   ]
  },
  {
   "cell_type": "code",
   "execution_count": 87,
   "metadata": {},
   "outputs": [
    {
     "name": "stdout",
     "output_type": "stream",
     "text": [
      "8361.051235132662\n",
      "5500.0\n"
     ]
    }
   ],
   "source": [
    "print(df.price.mean())\n",
    "print(df.price.median()) # hala outlier veri var. "
   ]
  },
  {
   "cell_type": "code",
   "execution_count": 88,
   "metadata": {},
   "outputs": [
    {
     "data": {
      "text/plain": [
       "<matplotlib.axes._subplots.AxesSubplot at 0x1fdbd75b148>"
      ]
     },
     "execution_count": 88,
     "metadata": {},
     "output_type": "execute_result"
    },
    {
     "data": {
      "image/png": "[encoded data removed]",
      "text/plain": [
       "<Figure size 576x360 with 1 Axes>"
      ]
     },
     "metadata": {
      "needs_background": "light"
     },
     "output_type": "display_data"
    }
   ],
   "source": [
    "plt.figure(figsize=(8,5))\n",
    "sns.boxplot(y='price', data=df, width=0.5)"
   ]
  },
  {
   "cell_type": "code",
   "execution_count": 89,
   "metadata": {},
   "outputs": [
    {
     "data": {
      "image/png": "[encoded data removed]",
      "text/plain": [
       "<Figure size 720x432 with 1 Axes>"
      ]
     },
     "metadata": {
      "needs_background": "light"
     },
     "output_type": "display_data"
    }
   ],
   "source": [
    "x = df.price\n",
    "plt.figure(figsize=(10,6))\n",
    "sns.distplot(x).set_title('Frequency Distribution Plot of Prices')\n",
    "plt.savefig(\"target.jpeg\",dpi=300,bbox_inches=\"tight\")"
   ]
  },
  {
   "cell_type": "markdown",
   "metadata": {},
   "source": [
    "Sola yatık bir grafik bu da demektir ki düşük fiyatlarda outlierlar var.Pozitif skewness'a çözümlerden biri log işlemi uygulamaktır.\n"
   ]
  },
  {
   "cell_type": "markdown",
   "metadata": {},
   "source": [
    "# Duration"
   ]
  },
  {
   "cell_type": "markdown",
   "metadata": {},
   "source": [
    "### Kullanabileceğimiz formata sokalım."
   ]
  },
  {
   "cell_type": "code",
   "execution_count": 90,
   "metadata": {},
   "outputs": [
    {
     "data": {
      "text/plain": [
       "0 days     350\n",
       "1 days     108\n",
       "5 days      79\n",
       "2 days      61\n",
       "3 days      59\n",
       "6 days      39\n",
       "7 days      36\n",
       "4 days      33\n",
       "13 days     30\n",
       "10 days     29\n",
       "12 days     26\n",
       "9 days      22\n",
       "15 days     18\n",
       "14 days     18\n",
       "25 days     16\n",
       "20 days     15\n",
       "17 days     14\n",
       "8 days      13\n",
       "11 days     13\n",
       "26 days     12\n",
       "18 days     10\n",
       "22 days      9\n",
       "21 days      9\n",
       "29 days      8\n",
       "28 days      8\n",
       "16 days      8\n",
       "23 days      7\n",
       "27 days      7\n",
       "24 days      5\n",
       "51 days      4\n",
       "30 days      3\n",
       "42 days      3\n",
       "39 days      3\n",
       "41 days      2\n",
       "19 days      2\n",
       "50 days      2\n",
       "40 days      2\n",
       "58 days      2\n",
       "35 days      2\n",
       "59 days      1\n",
       "43 days      1\n",
       "47 days      1\n",
       "44 days      1\n",
       "45 days      1\n",
       "38 days      1\n",
       "Name: ad_duration, dtype: int64"
      ]
     },
     "execution_count": 90,
     "metadata": {},
     "output_type": "execute_result"
    }
   ],
   "source": [
    "df['ad_duration'].value_counts()"
   ]
  },
  {
   "cell_type": "code",
   "execution_count": 91,
   "metadata": {},
   "outputs": [
    {
     "data": {
      "text/plain": [
       "Timedelta('8 days 00:00:00')"
      ]
     },
     "execution_count": 91,
     "metadata": {},
     "output_type": "execute_result"
    }
   ],
   "source": [
    "df.ad_duration[0]"
   ]
  },
  {
   "cell_type": "code",
   "execution_count": 92,
   "metadata": {},
   "outputs": [],
   "source": [
    "df.ad_duration = df.ad_duration.astype('str')"
   ]
  },
  {
   "cell_type": "code",
   "execution_count": 93,
   "metadata": {},
   "outputs": [],
   "source": [
    "df.ad_duration = df.ad_duration.str.split(' ', expand=True)"
   ]
  },
  {
   "cell_type": "code",
   "execution_count": 94,
   "metadata": {},
   "outputs": [],
   "source": [
    "df.ad_duration=df.ad_duration.astype(\"int\")"
   ]
  },
  {
   "cell_type": "markdown",
   "metadata": {},
   "source": [
    "İlan kaç gündür yayında?"
   ]
  },
  {
   "cell_type": "code",
   "execution_count": 95,
   "metadata": {},
   "outputs": [
    {
     "data": {
      "text/plain": [
       "Text(0.5, 1.0, 'Frequency Distribution Plot of Ad Duration')"
      ]
     },
     "execution_count": 95,
     "metadata": {},
     "output_type": "execute_result"
    },
    {
     "data": {
      "image/png": "[encoded data removed]",
      "text/plain": [
       "<Figure size 720x432 with 1 Axes>"
      ]
     },
     "metadata": {
      "needs_background": "light"
     },
     "output_type": "display_data"
    }
   ],
   "source": [
    "plt.figure(figsize=(10,6))\n",
    "g=sns.distplot(df.ad_duration)\n",
    "g.set_title(\"Frequency Distribution Plot of Ad Duration\")"
   ]
  },
  {
   "cell_type": "code",
   "execution_count": 96,
   "metadata": {},
   "outputs": [
    {
     "data": {
      "text/plain": [
       "<matplotlib.axes._subplots.AxesSubplot at 0x1fdc0dcbe88>"
      ]
     },
     "execution_count": 96,
     "metadata": {},
     "output_type": "execute_result"
    },
    {
     "data": {
      "image/png": "[encoded data removed]",
      "text/plain": [
       "<Figure size 432x288 with 1 Axes>"
      ]
     },
     "metadata": {
      "needs_background": "light"
     },
     "output_type": "display_data"
    }
   ],
   "source": [
    "sns.regplot(x=\"ad_duration\",y=\"price\",data=df)"
   ]
  },
  {
   "cell_type": "code",
   "execution_count": 97,
   "metadata": {},
   "outputs": [
    {
     "data": {
      "text/plain": [
       "m2                   0.494842\n",
       "celly_buildingAge   -0.080674\n",
       "price                1.000000\n",
       "deprem_sonrası       0.113689\n",
       "ad_duration          0.088964\n",
       "Name: price, dtype: float64"
      ]
     },
     "execution_count": 97,
     "metadata": {},
     "output_type": "execute_result"
    }
   ],
   "source": [
    "df.corr()[\"price\"]"
   ]
  },
  {
   "cell_type": "markdown",
   "metadata": {},
   "source": [
    "İlanların çoğu yeni ilanlar."
   ]
  },
  {
   "cell_type": "code",
   "execution_count": 98,
   "metadata": {},
   "outputs": [
    {
     "name": "stdout",
     "output_type": "stream",
     "text": [
      "6.906678865507777\n",
      "3.0\n",
      "9.651267318151103\n"
     ]
    }
   ],
   "source": [
    "print(df.ad_duration.mean())\n",
    "print(df.ad_duration.median())\n",
    "print(df.ad_duration.std())"
   ]
  },
  {
   "cell_type": "code",
   "execution_count": 99,
   "metadata": {},
   "outputs": [],
   "source": [
    "day=df[df.ad_duration<20]"
   ]
  },
  {
   "cell_type": "code",
   "execution_count": 100,
   "metadata": {},
   "outputs": [
    {
     "data": {
      "text/plain": [
       "Text(0.5, 1.0, 'Frequency Distribution Plot of Ad Duration')"
      ]
     },
     "execution_count": 100,
     "metadata": {},
     "output_type": "execute_result"
    },
    {
     "data": {
      "image/png": "[encoded data removed]",
      "text/plain": [
       "<Figure size 720x432 with 1 Axes>"
      ]
     },
     "metadata": {
      "needs_background": "light"
     },
     "output_type": "display_data"
    }
   ],
   "source": [
    "plt.figure(figsize=(10,6))\n",
    "g=sns.distplot(day.ad_duration)\n",
    "g.set_title(\"Frequency Distribution Plot of Ad Duration\")"
   ]
  },
  {
   "cell_type": "code",
   "execution_count": 101,
   "metadata": {},
   "outputs": [
    {
     "data": {
      "text/plain": [
       "<matplotlib.axes._subplots.AxesSubplot at 0x1fdbd9958c8>"
      ]
     },
     "execution_count": 101,
     "metadata": {},
     "output_type": "execute_result"
    },
    {
     "data": {
      "image/png": "[encoded data removed]",
      "text/plain": [
       "<Figure size 576x360 with 1 Axes>"
      ]
     },
     "metadata": {
      "needs_background": "light"
     },
     "output_type": "display_data"
    }
   ],
   "source": [
    "plt.figure(figsize=(8,5))\n",
    "sns.boxplot(y='ad_duration', data=df, width=0.5)"
   ]
  },
  {
   "cell_type": "markdown",
   "metadata": {},
   "source": [
    "# Age\n",
    "Evin yaşı da fiyatı etkiler.Bakalım."
   ]
  },
  {
   "cell_type": "code",
   "execution_count": 102,
   "metadata": {},
   "outputs": [
    {
     "data": {
      "image/png": "[encoded data removed]",
      "text/plain": [
       "<Figure size 360x360 with 1 Axes>"
      ]
     },
     "metadata": {
      "needs_background": "light"
     },
     "output_type": "display_data"
    }
   ],
   "source": [
    "sns.catplot(x=\"celly_buildingAge\", y=\"price\", kind=\"swarm\",data=df);"
   ]
  },
  {
   "cell_type": "code",
   "execution_count": 103,
   "metadata": {},
   "outputs": [
    {
     "data": {
      "image/png": "[encoded data removed]",
      "text/plain": [
       "<Figure size 360x360 with 1 Axes>"
      ]
     },
     "metadata": {
      "needs_background": "light"
     },
     "output_type": "display_data"
    }
   ],
   "source": [
    "sns.catplot(x=\"deprem_sonrası\", y=\"price\", kind=\"swarm\",data=df); # 0 genç bina 1 yaşlı bina\n",
    "plt.savefig(\"deprem.jpeg\",dpi=300,bbox_inches=\"tight\")"
   ]
  },
  {
   "cell_type": "markdown",
   "metadata": {},
   "source": [
    "Deprem sonrası ev kiralarında yüksek fiyatlar görüyoruz. Deprem öncesi bazı ev kiraları da az değil."
   ]
  },
  {
   "cell_type": "code",
   "execution_count": 104,
   "metadata": {},
   "outputs": [
    {
     "data": {
      "text/plain": [
       "Text(0.5, 1.0, 'Frequency Distribution Plot of m2')"
      ]
     },
     "execution_count": 104,
     "metadata": {},
     "output_type": "execute_result"
    },
    {
     "data": {
      "image/png": "[encoded data removed]",
      "text/plain": [
       "<Figure size 720x432 with 1 Axes>"
      ]
     },
     "metadata": {
      "needs_background": "light"
     },
     "output_type": "display_data"
    }
   ],
   "source": [
    "x = df.m2\n",
    "plt.figure(figsize=(10,6))\n",
    "sns.distplot(x).set_title('Frequency Distribution Plot of m2')"
   ]
  },
  {
   "cell_type": "code",
   "execution_count": 105,
   "metadata": {},
   "outputs": [
    {
     "data": {
      "image/png": "[encoded data removed]",
      "text/plain": [
       "<Figure size 1080x720 with 1 Axes>"
      ]
     },
     "metadata": {
      "needs_background": "light"
     },
     "output_type": "display_data"
    }
   ],
   "source": [
    "best_3_loc=df.groupby(\"location\")[\"price\"].mean().sort_values(ascending=False).head(3)\n",
    "best_3_loc=best_3_loc.index.to_list()\n",
    "\n",
    "plt.figure(figsize=(15,10))\n",
    "sns.barplot(x=df[\"location\"][df[\"location\"].isin(best_3_loc)],y=df[\"price\"],color=\"salmon\",saturation=.5)\n",
    "plt.xticks(rotation=30)\n",
    "plt.savefig(\"loc3.jpeg\",dpi=300,bbox_inches=\"tight\")"
   ]
  },
  {
   "cell_type": "code",
   "execution_count": 102,
   "metadata": {},
   "outputs": [
    {
     "data": {
      "image/png": "[encoded data removed]",
      "text/plain": [
       "<Figure size 576x576 with 1 Axes>"
      ]
     },
     "metadata": {},
     "output_type": "display_data"
    }
   ],
   "source": [
    "loc=df.location.value_counts().head(15)\n",
    "loc.plot(kind='pie' ,subplots=True, figsize=(8, 8))\n",
    "plt.savefig(\"loc3.jpeg\",dpi=300,bbox_inches=\"tight\")"
   ]
  },
  {
   "cell_type": "code",
   "execution_count": 784,
   "metadata": {},
   "outputs": [
    {
     "data": {
      "text/html": [
       "<div>\n",
       "<style scoped>\n",
       "    .dataframe tbody tr th:only-of-type {\n",
       "        vertical-align: middle;\n",
       "    }\n",
       "\n",
       "    .dataframe tbody tr th {\n",
       "        vertical-align: top;\n",
       "    }\n",
       "\n",
       "    .dataframe thead th {\n",
       "        text-align: right;\n",
       "    }\n",
       "</style>\n",
       "<table border=\"1\" class=\"dataframe\">\n",
       "  <thead>\n",
       "    <tr style=\"text-align: right;\">\n",
       "      <th></th>\n",
       "      <th>m2</th>\n",
       "      <th>celly_houseRoomCount</th>\n",
       "      <th>description</th>\n",
       "      <th>isitma</th>\n",
       "      <th>celly_buildingAge</th>\n",
       "      <th>celly_floortype</th>\n",
       "      <th>location</th>\n",
       "      <th>days</th>\n",
       "      <th>price</th>\n",
       "      <th>deprem_sonrası</th>\n",
       "      <th>ad_duration</th>\n",
       "    </tr>\n",
       "  </thead>\n",
       "  <tbody>\n",
       "    <tr>\n",
       "      <th>0</th>\n",
       "      <td>95.000</td>\n",
       "      <td>2 + 1</td>\n",
       "      <td>baltalimanında 2+1 eşyalı daire</td>\n",
       "      <td>Kat Kaloriferi</td>\n",
       "      <td>25</td>\n",
       "      <td>1. Kat</td>\n",
       "      <td>Sarıyer,Baltalimanı Mahallesi</td>\n",
       "      <td>2020-07-05</td>\n",
       "      <td>4250</td>\n",
       "      <td>0</td>\n",
       "      <td>8</td>\n",
       "    </tr>\n",
       "    <tr>\n",
       "      <th>1</th>\n",
       "      <td>110.000</td>\n",
       "      <td>2 + 1</td>\n",
       "      <td>sahibinden full eşyalı daire</td>\n",
       "      <td>Kat Kaloriferi</td>\n",
       "      <td>20</td>\n",
       "      <td>2. Kat</td>\n",
       "      <td>Sarıyer,Ayazağa Mahallesi</td>\n",
       "      <td>2020-06-20</td>\n",
       "      <td>2700</td>\n",
       "      <td>1</td>\n",
       "      <td>23</td>\n",
       "    </tr>\n",
       "    <tr>\n",
       "      <th>2</th>\n",
       "      <td>121.088</td>\n",
       "      <td>4 + 1</td>\n",
       "      <td>tarabya sanatcılar sitesinde ferah teraslı 4+...</td>\n",
       "      <td>Kat Kaloriferi</td>\n",
       "      <td>20</td>\n",
       "      <td>Çatı Katı</td>\n",
       "      <td>Sarıyer,Tarabya Mahallesi</td>\n",
       "      <td>2020-07-13</td>\n",
       "      <td>5500</td>\n",
       "      <td>1</td>\n",
       "      <td>0</td>\n",
       "    </tr>\n",
       "    <tr>\n",
       "      <th>3</th>\n",
       "      <td>80.000</td>\n",
       "      <td>1 + 1</td>\n",
       "      <td>sariyer merkezde caddede ofise kuaföre vs.uyg...</td>\n",
       "      <td>Klima</td>\n",
       "      <td>20</td>\n",
       "      <td>2. Kat</td>\n",
       "      <td>Sarıyer,Merkez Mahallesi</td>\n",
       "      <td>2020-07-07</td>\n",
       "      <td>2250</td>\n",
       "      <td>1</td>\n",
       "      <td>6</td>\n",
       "    </tr>\n",
       "    <tr>\n",
       "      <th>4</th>\n",
       "      <td>80.000</td>\n",
       "      <td>1 + 1</td>\n",
       "      <td>sarıyer ayazağa meydan 1+1 eşyalı kiralık dai...</td>\n",
       "      <td>Klima</td>\n",
       "      <td>14</td>\n",
       "      <td>6. Kat</td>\n",
       "      <td>Sarıyer,Ayazağa Mahallesi</td>\n",
       "      <td>2020-07-11</td>\n",
       "      <td>1600</td>\n",
       "      <td>1</td>\n",
       "      <td>2</td>\n",
       "    </tr>\n",
       "  </tbody>\n",
       "</table>\n",
       "</div>"
      ],
      "text/plain": [
       "        m2 celly_houseRoomCount  \\\n",
       "0   95.000                2 + 1   \n",
       "1  110.000                2 + 1   \n",
       "2  121.088                4 + 1   \n",
       "3   80.000                1 + 1   \n",
       "4   80.000                1 + 1   \n",
       "\n",
       "                                         description          isitma  \\\n",
       "0                   baltalimanında 2+1 eşyalı daire   Kat Kaloriferi   \n",
       "1                       sahibinden full eşyalı daire  Kat Kaloriferi   \n",
       "2   tarabya sanatcılar sitesinde ferah teraslı 4+...  Kat Kaloriferi   \n",
       "3   sariyer merkezde caddede ofise kuaföre vs.uyg...           Klima   \n",
       "4   sarıyer ayazağa meydan 1+1 eşyalı kiralık dai...           Klima   \n",
       "\n",
       "   celly_buildingAge celly_floortype                       location  \\\n",
       "0                 25          1. Kat  Sarıyer,Baltalimanı Mahallesi   \n",
       "1                 20          2. Kat      Sarıyer,Ayazağa Mahallesi   \n",
       "2                 20       Çatı Katı      Sarıyer,Tarabya Mahallesi   \n",
       "3                 20          2. Kat       Sarıyer,Merkez Mahallesi   \n",
       "4                 14          6. Kat      Sarıyer,Ayazağa Mahallesi   \n",
       "\n",
       "        days  price  deprem_sonrası  ad_duration  \n",
       "0 2020-07-05   4250               0            8  \n",
       "1 2020-06-20   2700               1           23  \n",
       "2 2020-07-13   5500               1            0  \n",
       "3 2020-07-07   2250               1            6  \n",
       "4 2020-07-11   1600               1            2  "
      ]
     },
     "execution_count": 784,
     "metadata": {},
     "output_type": "execute_result"
    }
   ],
   "source": [
    "df.head()"
   ]
  },
  {
   "cell_type": "code",
   "execution_count": 151,
   "metadata": {},
   "outputs": [
    {
     "data": {
      "text/plain": [
       "<Figure size 1080x720 with 0 Axes>"
      ]
     },
     "metadata": {},
     "output_type": "display_data"
    },
    {
     "data": {
      "image/png": "[encoded data removed]",
      "text/plain": [
       "<Figure size 360x360 with 1 Axes>"
      ]
     },
     "metadata": {
      "needs_background": "light"
     },
     "output_type": "display_data"
    }
   ],
   "source": [
    "plt.figure(figsize=(15,10))\n",
    "g = sns.catplot(y=\"celly_houseRoomCount\", x=\"price\", kind=\"bar\",  data=df)\n",
    "plt.savefig(\"oda.jpeg\",dpi=300,bbox_inches=\"tight\")"
   ]
  },
  {
   "cell_type": "code",
   "execution_count": 786,
   "metadata": {},
   "outputs": [
    {
     "data": {
      "text/html": [
       "<div>\n",
       "<style scoped>\n",
       "    .dataframe tbody tr th:only-of-type {\n",
       "        vertical-align: middle;\n",
       "    }\n",
       "\n",
       "    .dataframe tbody tr th {\n",
       "        vertical-align: top;\n",
       "    }\n",
       "\n",
       "    .dataframe thead th {\n",
       "        text-align: right;\n",
       "    }\n",
       "</style>\n",
       "<table border=\"1\" class=\"dataframe\">\n",
       "  <thead>\n",
       "    <tr style=\"text-align: right;\">\n",
       "      <th></th>\n",
       "      <th>m2</th>\n",
       "      <th>celly_houseRoomCount</th>\n",
       "      <th>description</th>\n",
       "      <th>isitma</th>\n",
       "      <th>celly_buildingAge</th>\n",
       "      <th>celly_floortype</th>\n",
       "      <th>location</th>\n",
       "      <th>days</th>\n",
       "      <th>price</th>\n",
       "      <th>deprem_sonrası</th>\n",
       "      <th>ad_duration</th>\n",
       "    </tr>\n",
       "  </thead>\n",
       "  <tbody>\n",
       "    <tr>\n",
       "      <th>110</th>\n",
       "      <td>300.0</td>\n",
       "      <td>6 + 1</td>\n",
       "      <td>tarabya sanatçılar sitesinde kiralık 4 katlı ...</td>\n",
       "      <td>Kombi</td>\n",
       "      <td>24</td>\n",
       "      <td>En Üst Kat</td>\n",
       "      <td>Sarıyer,Tarabya Mahallesi</td>\n",
       "      <td>2020-07-05</td>\n",
       "      <td>10000</td>\n",
       "      <td>0</td>\n",
       "      <td>8</td>\n",
       "    </tr>\n",
       "    <tr>\n",
       "      <th>312</th>\n",
       "      <td>400.0</td>\n",
       "      <td>6 + 1</td>\n",
       "      <td>istinyepark evleri düz ara kat daire 400m2 6+...</td>\n",
       "      <td>Kombi</td>\n",
       "      <td>7</td>\n",
       "      <td>3. Kat</td>\n",
       "      <td>Sarıyer,İstinye Mahallesi</td>\n",
       "      <td>2020-07-13</td>\n",
       "      <td>32500</td>\n",
       "      <td>1</td>\n",
       "      <td>0</td>\n",
       "    </tr>\n",
       "    <tr>\n",
       "      <th>332</th>\n",
       "      <td>450.0</td>\n",
       "      <td>6 + 1</td>\n",
       "      <td>istinyepark residence 450m2 bahce dubleks kir...</td>\n",
       "      <td>Kombi</td>\n",
       "      <td>7</td>\n",
       "      <td>Bahçe Katı</td>\n",
       "      <td>Sarıyer,İstinye Mahallesi</td>\n",
       "      <td>2020-07-13</td>\n",
       "      <td>35000</td>\n",
       "      <td>1</td>\n",
       "      <td>0</td>\n",
       "    </tr>\n",
       "    <tr>\n",
       "      <th>540</th>\n",
       "      <td>330.0</td>\n",
       "      <td>6 + 1</td>\n",
       "      <td>kilyosta merkezi lokasyonda bakımlı tripleks ...</td>\n",
       "      <td>Kombi</td>\n",
       "      <td>20</td>\n",
       "      <td>Ara Kat</td>\n",
       "      <td>Sarıyer,Kumköy Mahallesi</td>\n",
       "      <td>2020-06-20</td>\n",
       "      <td>6000</td>\n",
       "      <td>1</td>\n",
       "      <td>23</td>\n",
       "    </tr>\n",
       "    <tr>\n",
       "      <th>579</th>\n",
       "      <td>388.0</td>\n",
       "      <td>6 + 1</td>\n",
       "      <td>ıstınyepark resıdence kıralık bahce dubleksı ...</td>\n",
       "      <td>Kombi</td>\n",
       "      <td>11</td>\n",
       "      <td>Bahçe Katı</td>\n",
       "      <td>Sarıyer,Pınar Mahallesi</td>\n",
       "      <td>2020-07-13</td>\n",
       "      <td>35000</td>\n",
       "      <td>1</td>\n",
       "      <td>0</td>\n",
       "    </tr>\n",
       "    <tr>\n",
       "      <th>893</th>\n",
       "      <td>330.0</td>\n",
       "      <td>6 + 1</td>\n",
       "      <td>tarabya deniz manzaralı cephesi yeşil full ta...</td>\n",
       "      <td>Merkezi (Pay Ölçer)</td>\n",
       "      <td>25</td>\n",
       "      <td>4. Kat</td>\n",
       "      <td>Sarıyer,Tarabya Mahallesi</td>\n",
       "      <td>2020-07-10</td>\n",
       "      <td>23000</td>\n",
       "      <td>0</td>\n",
       "      <td>3</td>\n",
       "    </tr>\n",
       "  </tbody>\n",
       "</table>\n",
       "</div>"
      ],
      "text/plain": [
       "        m2 celly_houseRoomCount  \\\n",
       "110  300.0                6 + 1   \n",
       "312  400.0                6 + 1   \n",
       "332  450.0                6 + 1   \n",
       "540  330.0                6 + 1   \n",
       "579  388.0                6 + 1   \n",
       "893  330.0                6 + 1   \n",
       "\n",
       "                                           description               isitma  \\\n",
       "110   tarabya sanatçılar sitesinde kiralık 4 katlı ...                Kombi   \n",
       "312   istinyepark evleri düz ara kat daire 400m2 6+...                Kombi   \n",
       "332   istinyepark residence 450m2 bahce dubleks kir...                Kombi   \n",
       "540   kilyosta merkezi lokasyonda bakımlı tripleks ...                Kombi   \n",
       "579   ıstınyepark resıdence kıralık bahce dubleksı ...                Kombi   \n",
       "893   tarabya deniz manzaralı cephesi yeşil full ta...  Merkezi (Pay Ölçer)   \n",
       "\n",
       "     celly_buildingAge celly_floortype                   location       days  \\\n",
       "110                 24      En Üst Kat  Sarıyer,Tarabya Mahallesi 2020-07-05   \n",
       "312                  7          3. Kat  Sarıyer,İstinye Mahallesi 2020-07-13   \n",
       "332                  7      Bahçe Katı  Sarıyer,İstinye Mahallesi 2020-07-13   \n",
       "540                 20         Ara Kat   Sarıyer,Kumköy Mahallesi 2020-06-20   \n",
       "579                 11      Bahçe Katı    Sarıyer,Pınar Mahallesi 2020-07-13   \n",
       "893                 25          4. Kat  Sarıyer,Tarabya Mahallesi 2020-07-10   \n",
       "\n",
       "     price  deprem_sonrası  ad_duration  \n",
       "110  10000               0            8  \n",
       "312  32500               1            0  \n",
       "332  35000               1            0  \n",
       "540   6000               1           23  \n",
       "579  35000               1            0  \n",
       "893  23000               0            3  "
      ]
     },
     "execution_count": 786,
     "metadata": {},
     "output_type": "execute_result"
    }
   ],
   "source": [
    "df[df.celly_houseRoomCount==\"6 + 1\"]"
   ]
  },
  {
   "cell_type": "markdown",
   "metadata": {},
   "source": [
    "## Biraz Feature Engineering\n",
    "Description kolonunu yukarda missing value aramada kullanmıştım ama biraz daha etinden sütünden faydalanabilirim :)"
   ]
  },
  {
   "cell_type": "code",
   "execution_count": null,
   "metadata": {},
   "outputs": [],
   "source": [
    "# Bu tarz bir fonksiyonu arayacağım bilgiye göre uyarlayacağım.\n",
    "def search_inf(info,aranan_bilgi):\n",
    "    if(info.find(aranan_bilgi)>0):\n",
    "        return 1\n",
    "    else:\n",
    "        return 0"
   ]
  },
  {
   "cell_type": "code",
   "execution_count": null,
   "metadata": {},
   "outputs": [],
   "source": [
    "conda install -c https://conda.anaconda.org/conda-forge wordcloud"
   ]
  },
  {
   "cell_type": "code",
   "execution_count": 127,
   "metadata": {},
   "outputs": [
    {
     "data": {
      "image/png": "[encoded data removed]",
      "text/plain": [
       "<Figure size 720x432 with 1 Axes>"
      ]
     },
     "metadata": {
      "needs_background": "light"
     },
     "output_type": "display_data"
    }
   ],
   "source": [
    "from wordcloud import WordCloud, STOPWORDS\n",
    "text_list = list(df.description)\n",
    "text = '-'.join(text_list)\n",
    "wordcloud = WordCloud(background_color='white').generate(text)\n",
    "plt.figure(figsize=(10,6))\n",
    "plt.imshow(wordcloud, interpolation='bilinear')\n",
    "plt.axis(\"off\")\n",
    "plt.show()"
   ]
  },
  {
   "cell_type": "code",
   "execution_count": 106,
   "metadata": {},
   "outputs": [
    {
     "data": {
      "text/plain": [
       "array(['1. Kat', '2. Kat', 'Çatı Katı', '6. Kat', '20. Kat', 'Bahçe Katı',\n",
       "       '13. Kat', '8. Kat', '21 ve üzeri', '4. Kat', '10. Kat', '14. Kat',\n",
       "       '18. Kat', 'En Üst Kat', '17. Kat', '3. Kat', 'Ara Kat',\n",
       "       'Yüksek Giriş', 'Kot', '5. Kat', 'Giriş Katı', 'Teras Katı',\n",
       "       '12. Kat', '7. Kat', 'bahçe', 'Yarı Bodrum', 'Zemin', 'ara',\n",
       "       '16. Kat', '15. Kat', 'arakat', 'teras', 'üst', '9. Kat',\n",
       "       '11. Kat', '19. Kat', 'Bodrum', 'yüksek'], dtype=object)"
      ]
     },
     "execution_count": 106,
     "metadata": {},
     "output_type": "execute_result"
    }
   ],
   "source": [
    "df.celly_floortype.unique()"
   ]
  },
  {
   "cell_type": "markdown",
   "metadata": {},
   "source": [
    "# Boğaza yakınlık"
   ]
  },
  {
   "cell_type": "code",
   "execution_count": 107,
   "metadata": {},
   "outputs": [],
   "source": [
    "def search_inf(info):\n",
    "    if(info.find(\"boğaz\")>=0 or info.find(\"sahil\")>=0 or info.find(\"Sahil\")>=0 or info.find(\"BOĞAZ\")>=0 or info.find(\"Boğaz\")>=0 or info.find(\"15 Temmuz\")>=0 \n",
    "      or info.find(\"15 TEMMUZ\")>=0 or info.find(\"15Temmuz\")>=0  ):\n",
    "        return 1\n",
    "    else:\n",
    "        return 0\n",
    "df[\"boğaza_bakan\"]=df.description.map(search_inf)"
   ]
  },
  {
   "cell_type": "markdown",
   "metadata": {},
   "source": [
    "# Metroya yakınlık"
   ]
  },
  {
   "cell_type": "code",
   "execution_count": 108,
   "metadata": {},
   "outputs": [],
   "source": [
    "def search_inf(info):\n",
    "    if(info.find(\"metro\")>=0 or info.find(\"Metro\")>=0 ):\n",
    "        return 1\n",
    "    else:\n",
    "        return 0\n",
    "df[\"metroya_yakın\"]=df.description.map(search_inf)"
   ]
  },
  {
   "cell_type": "markdown",
   "metadata": {},
   "source": [
    "# Terası olup olmaması"
   ]
  },
  {
   "cell_type": "code",
   "execution_count": 109,
   "metadata": {},
   "outputs": [],
   "source": [
    "def search_inf(info):\n",
    "    if(info.find(\"teras\")>=0 or info.find(\"Teras\")>=0 or\n",
    "       info.find(\"dubleks\")>=0 or info.find(\"Dubleks\")>=0 or info.find(\"Tripleks\")>=0 or info.find(\"TRİP\")>=0):\n",
    "        return 1\n",
    "    else:\n",
    "        return 0\n",
    "df[\"teras\"]=df.description.map(search_inf)\n",
    "df.loc[(df[\"celly_floortype\"]==\"Teras Katı\"),\"teras\"] =1\n",
    "df.loc[(df[\"celly_floortype\"]==\"teras \"),\"teras\"] =1\n",
    "df.loc[(df[\"celly_floortype\"]==\"teras k\"),\"teras\"] =1\n",
    "df.loc[(df[\"celly_floortype\"]==\"teras\"),\"teras\"] =1"
   ]
  },
  {
   "cell_type": "markdown",
   "metadata": {},
   "source": [
    "# Eşyalı Olup Olmaması"
   ]
  },
  {
   "cell_type": "code",
   "execution_count": 110,
   "metadata": {},
   "outputs": [],
   "source": [
    "def search_inf(info):\n",
    "    if(info.find(\"eşya\")>=0 or info.find(\"esya\")>=0 or\n",
    "       info.find(\"Eşya\")>=0 or info.find(\"Esya\")>=0 or\n",
    "       info.find(\"mob\")>=0 or info.find(\"Mob\")>=0 ):\n",
    "        return 1\n",
    "    else:\n",
    "        return 0\n",
    "df[\"eşyalı\"]=df.description.map(search_inf)"
   ]
  },
  {
   "cell_type": "code",
   "execution_count": 111,
   "metadata": {},
   "outputs": [
    {
     "data": {
      "text/plain": [
       "array(['1. Kat', '2. Kat', 'Çatı Katı', '6. Kat', '20. Kat', 'Bahçe Katı',\n",
       "       '13. Kat', '8. Kat', '21 ve üzeri', '4. Kat', '10. Kat', '14. Kat',\n",
       "       '18. Kat', 'En Üst Kat', '17. Kat', '3. Kat', 'Ara Kat',\n",
       "       'Yüksek Giriş', 'Kot', '5. Kat', 'Giriş Katı', 'Teras Katı',\n",
       "       '12. Kat', '7. Kat', 'bahçe', 'Yarı Bodrum', 'Zemin', 'ara',\n",
       "       '16. Kat', '15. Kat', 'arakat', 'teras', 'üst', '9. Kat',\n",
       "       '11. Kat', '19. Kat', 'Bodrum', 'yüksek'], dtype=object)"
      ]
     },
     "execution_count": 111,
     "metadata": {},
     "output_type": "execute_result"
    }
   ],
   "source": [
    "df[\"celly_floortype\"].unique()"
   ]
  },
  {
   "cell_type": "markdown",
   "metadata": {},
   "source": [
    "# Bahçesi Olup Olmaması"
   ]
  },
  {
   "cell_type": "code",
   "execution_count": 112,
   "metadata": {},
   "outputs": [],
   "source": [
    "def search_inf(info):\n",
    "    if(info.find(\"bahçe\")>=0 or info.find(\"bahce\")>=0):\n",
    "        return 1\n",
    "    else:\n",
    "        return 0\n",
    "df[\"bahçeli\"]=df.description.map(search_inf)\n",
    "df.loc[(df[\"celly_floortype\"]==\"bahçe\"),\"bahçeli\"] =1\n",
    "df.loc[(df[\"celly_floortype\"]==\"Bahçe Katı\"),\"bahçeli\"] =1\n",
    "df.loc[(df[\"celly_floortype\"]==\"bahçekatı\"),\"bahçeli\"] =1"
   ]
  },
  {
   "cell_type": "code",
   "execution_count": 113,
   "metadata": {},
   "outputs": [
    {
     "name": "stdout",
     "output_type": "stream",
     "text": [
      "<class 'pandas.core.frame.DataFrame'>\n",
      "Int64Index: 1093 entries, 0 to 1130\n",
      "Data columns (total 16 columns):\n",
      " #   Column                Non-Null Count  Dtype         \n",
      "---  ------                --------------  -----         \n",
      " 0   m2                    1093 non-null   float64       \n",
      " 1   celly_houseRoomCount  1093 non-null   object        \n",
      " 2   description           1093 non-null   object        \n",
      " 3   isitma                1093 non-null   object        \n",
      " 4   celly_buildingAge     1093 non-null   int64         \n",
      " 5   celly_floortype       1093 non-null   object        \n",
      " 6   location              1093 non-null   object        \n",
      " 7   days                  1093 non-null   datetime64[ns]\n",
      " 8   price                 1093 non-null   int64         \n",
      " 9   deprem_sonrası        1093 non-null   int64         \n",
      " 10  ad_duration           1093 non-null   int32         \n",
      " 11  boğaza_bakan          1093 non-null   int64         \n",
      " 12  metroya_yakın         1093 non-null   int64         \n",
      " 13  teras                 1093 non-null   int64         \n",
      " 14  eşyalı                1093 non-null   int64         \n",
      " 15  bahçeli               1093 non-null   int64         \n",
      "dtypes: datetime64[ns](1), float64(1), int32(1), int64(8), object(5)\n",
      "memory usage: 180.9+ KB\n"
     ]
    }
   ],
   "source": [
    "df.info()"
   ]
  },
  {
   "cell_type": "code",
   "execution_count": 114,
   "metadata": {},
   "outputs": [],
   "source": [
    "room_cnt = df['celly_houseRoomCount'].tolist()\n",
    "\n",
    "# You can use a for loop to convert 'Chip Time' to minutes\n",
    "\n",
    "room = []\n",
    "salon=[]\n",
    "for i in room_cnt:\n",
    "    room.append(int(i[0]))\n",
    "    salon.append(int(i[-1]))\n",
    "\n",
    "df[\"bedroom\"]=room\n",
    "df[\"salon\"]=salon"
   ]
  },
  {
   "cell_type": "code",
   "execution_count": 115,
   "metadata": {},
   "outputs": [
    {
     "data": {
      "text/plain": [
       "array(['1. Kat', '2. Kat', 'Çatı Katı', '6. Kat', '20. Kat', 'Bahçe Katı',\n",
       "       '13. Kat', '8. Kat', '21 ve üzeri', '4. Kat', '10. Kat', '14. Kat',\n",
       "       '18. Kat', 'En Üst Kat', '17. Kat', '3. Kat', 'Ara Kat',\n",
       "       'Yüksek Giriş', 'Kot', '5. Kat', 'Giriş Katı', 'Teras Katı',\n",
       "       '12. Kat', '7. Kat', 'bahçe', 'Yarı Bodrum', 'Zemin', 'ara',\n",
       "       '16. Kat', '15. Kat', 'arakat', 'teras', 'üst', '9. Kat',\n",
       "       '11. Kat', '19. Kat', 'Bodrum', 'yüksek'], dtype=object)"
      ]
     },
     "execution_count": 115,
     "metadata": {},
     "output_type": "execute_result"
    }
   ],
   "source": [
    "df.celly_floortype.unique()"
   ]
  },
  {
   "cell_type": "code",
   "execution_count": 116,
   "metadata": {},
   "outputs": [
    {
     "data": {
      "text/plain": [
       "array(['1. Kat', 'Ara Kat', 'Çatı Katı', 'Bodrum'], dtype=object)"
      ]
     },
     "execution_count": 116,
     "metadata": {},
     "output_type": "execute_result"
    }
   ],
   "source": [
    "floor = df['celly_floortype'].tolist()\n",
    "\n",
    "# You can use a for loop to convert 'Chip Time' to minutes\n",
    "\n",
    "flr = []\n",
    "for i in floor:\n",
    "    if(i==\"Yüksek Giriş\" or i==\"bahçe\" or i==\"yüksek \" or i==\"Giriş Katı\" or i==\"bahçekatı\" or i==\"Bahçe Katı\" or i==\"bahçe k\" or i==\"yüksek\" or i==\"bahçe \" or i==\"Zemin\"):\n",
    "        flr.append(\"1. Kat\")\n",
    "    elif(i==\"En Üst Kat\" or i==\"üst\" or i==\"teras\" or i==\"Teras Katı\" or i==\"üst \" or i==\"teras k\" or i==\"teras \" or i==\"21 ve üzeri\"):\n",
    "        flr.append(\"Çatı Katı\")\n",
    "    elif(i==\"2. Kat\" or i==\"3. Kat\" or i==\"4. Kat\" or i==\"5. Kat\" or i==\"11. Kat\" or i==\"7. Kat\" or i==\"6. Kat\" or i==\"16. Kat\" or\n",
    "        i==\"15. Kat\" or i==\"20. Kat\" or i==\"9. Kat\" or i==\"12. Kat\" or i==\"13. Kat\" or i==\"17. Kat\" or i==\"14. Kat\" or i==\"10. Kat\" or\n",
    "        i==\"18. Kat\" or i==\"8. Kat\" or i==\"19. Kat\" or i==\"ara\" or i==\"arakat\" or i==\"ara \"):\n",
    "        flr.append(\"Ara Kat\")\n",
    "    elif(i==\"Yarı Bodrum\" or i==\"Bodrum\" or i==\"Kot\"):\n",
    "        flr.append(\"Bodrum\")    \n",
    "    else:\n",
    "        flr.append(i)\n",
    "\n",
    "df['celly_floortype'] = flr\n",
    "df['celly_floortype'].unique()"
   ]
  },
  {
   "cell_type": "code",
   "execution_count": 117,
   "metadata": {},
   "outputs": [
    {
     "data": {
      "text/plain": [
       "Index(['m2', 'celly_houseRoomCount', 'description', 'isitma',\n",
       "       'celly_buildingAge', 'celly_floortype', 'location', 'days', 'price',\n",
       "       'deprem_sonrası', 'ad_duration', 'boğaza_bakan', 'metroya_yakın',\n",
       "       'teras', 'eşyalı', 'bahçeli', 'bedroom', 'salon'],\n",
       "      dtype='object')"
      ]
     },
     "execution_count": 117,
     "metadata": {},
     "output_type": "execute_result"
    }
   ],
   "source": [
    "df.columns"
   ]
  },
  {
   "cell_type": "code",
   "execution_count": 118,
   "metadata": {},
   "outputs": [],
   "source": [
    "df.drop(columns=[\"description\",\"deprem_sonrası\",\"celly_houseRoomCount\",\"days\"],inplace=True)"
   ]
  },
  {
   "cell_type": "markdown",
   "metadata": {},
   "source": [
    "# Kategorik Değişkenleri Nümerik Değerlerle Değiştirmek"
   ]
  },
  {
   "cell_type": "code",
   "execution_count": 119,
   "metadata": {},
   "outputs": [
    {
     "name": "stdout",
     "output_type": "stream",
     "text": [
      "<class 'pandas.core.frame.DataFrame'>\n",
      "Int64Index: 1093 entries, 0 to 1130\n",
      "Data columns (total 14 columns):\n",
      " #   Column             Non-Null Count  Dtype  \n",
      "---  ------             --------------  -----  \n",
      " 0   m2                 1093 non-null   float64\n",
      " 1   isitma             1093 non-null   object \n",
      " 2   celly_buildingAge  1093 non-null   int64  \n",
      " 3   celly_floortype    1093 non-null   object \n",
      " 4   location           1093 non-null   object \n",
      " 5   price              1093 non-null   int64  \n",
      " 6   ad_duration        1093 non-null   int32  \n",
      " 7   boğaza_bakan       1093 non-null   int64  \n",
      " 8   metroya_yakın      1093 non-null   int64  \n",
      " 9   teras              1093 non-null   int64  \n",
      " 10  eşyalı             1093 non-null   int64  \n",
      " 11  bahçeli            1093 non-null   int64  \n",
      " 12  bedroom            1093 non-null   int64  \n",
      " 13  salon              1093 non-null   int64  \n",
      "dtypes: float64(1), int32(1), int64(9), object(3)\n",
      "memory usage: 163.8+ KB\n"
     ]
    }
   ],
   "source": [
    "df.info()"
   ]
  },
  {
   "cell_type": "code",
   "execution_count": 120,
   "metadata": {},
   "outputs": [
    {
     "data": {
      "text/plain": [
       "['celly_buildingAge', 'celly_floortype', 'location']"
      ]
     },
     "execution_count": 120,
     "metadata": {},
     "output_type": "execute_result"
    }
   ],
   "source": [
    "cat_col = ['celly_buildingAge',\"celly_floortype\",'location']\n",
    "cat_col"
   ]
  },
  {
   "cell_type": "code",
   "execution_count": 121,
   "metadata": {},
   "outputs": [],
   "source": [
    "geçici=pd.concat([pd.get_dummies(df[\"celly_floortype\"]),df[\"price\"]],axis=1) \n"
   ]
  },
  {
   "cell_type": "code",
   "execution_count": 122,
   "metadata": {},
   "outputs": [
    {
     "data": {
      "text/plain": [
       "<matplotlib.axes._subplots.AxesSubplot at 0x1fdbedbf488>"
      ]
     },
     "execution_count": 122,
     "metadata": {},
     "output_type": "execute_result"
    },
    {
     "data": {
      "image/png": "[encoded data removed]",
      "text/plain": [
       "<Figure size 1080x720 with 1 Axes>"
      ]
     },
     "metadata": {
      "needs_background": "light"
     },
     "output_type": "display_data"
    }
   ],
   "source": [
    "geçici.corrwith(geçici.price).plot.bar(figsize=(15, 10),\n",
    "                  title = 'Correlation with Reposnse Variable',\n",
    "                  fontsize = 10, rot = 90,\n",
    "                  grid = True)"
   ]
  },
  {
   "cell_type": "code",
   "execution_count": 78,
   "metadata": {},
   "outputs": [
    {
     "name": "stderr",
     "output_type": "stream",
     "text": [
      "C:\\Users\\PACKERDBELL\\Anaconda3\\lib\\site-packages\\statsmodels\\tools\\_testing.py:19: FutureWarning: pandas.util.testing is deprecated. Use the functions in the public API at pandas.testing instead.\n",
      "  import pandas.util.testing as tm\n"
     ]
    }
   ],
   "source": [
    "import seaborn as sns"
   ]
  },
  {
   "cell_type": "code",
   "execution_count": 321,
   "metadata": {},
   "outputs": [
    {
     "data": {
      "image/png": "[encoded data removed]",
      "text/plain": [
       "<Figure size 720x432 with 1 Axes>"
      ]
     },
     "metadata": {
      "needs_background": "light"
     },
     "output_type": "display_data"
    }
   ],
   "source": [
    "plt.figure(figsize=(10,6))\n",
    "sns.regplot(x='m2', y='price', data=df).set_title('m2 vs Price')\n",
    "plt.savefig(\"m2.jpeg\",dpi=300,bbox_inches=\"tight\")"
   ]
  },
  {
   "cell_type": "code",
   "execution_count": 123,
   "metadata": {},
   "outputs": [
    {
     "data": {
      "text/plain": [
       "<matplotlib.axes._subplots.AxesSubplot at 0x1fdbee3bf08>"
      ]
     },
     "execution_count": 123,
     "metadata": {},
     "output_type": "execute_result"
    },
    {
     "data": {
      "image/png": "[encoded data removed]",
      "text/plain": [
       "<Figure size 1080x720 with 1 Axes>"
      ]
     },
     "metadata": {
      "needs_background": "light"
     },
     "output_type": "display_data"
    }
   ],
   "source": [
    "df.corrwith(df.price).plot.bar(figsize=(15, 10),\n",
    "                  title = 'Correlation with Reposnse Variable',\n",
    "                  fontsize = 10, rot = 90,\n",
    "                  grid = True)"
   ]
  },
  {
   "cell_type": "code",
   "execution_count": 264,
   "metadata": {},
   "outputs": [],
   "source": [
    "df.to_csv(\"denemee.csv\")"
   ]
  },
  {
   "cell_type": "code",
   "execution_count": null,
   "metadata": {},
   "outputs": [],
   "source": []
  }
 ],
 "metadata": {
  "kernelspec": {
   "display_name": "Python 3",
   "language": "python",
   "name": "python3"
  },
  "language_info": {
   "codemirror_mode": {
    "name": "ipython",
    "version": 3
   },
   "file_extension": ".py",
   "mimetype": "text/x-python",
   "name": "python",
   "nbconvert_exporter": "python",
   "pygments_lexer": "ipython3",
   "version": "3.7.4"
  }
 },
 "nbformat": 4,
 "nbformat_minor": 4
}
